{
 "cells": [
  {
   "attachments": {},
   "cell_type": "markdown",
   "metadata": {},
   "source": [
    "# **🔗 Objetivos**"
   ]
  },
  {
   "attachments": {},
   "cell_type": "markdown",
   "metadata": {},
   "source": [
    "Esse notebook tem como objetivo a avaliação para o processo seletivo de **Instutor de Mentoria** na **Resilia Educação**.\n",
    "\n",
    "Tendo em vista o escopo da vaga, os processos realizados nos dados serão acompanhados de dicas, instruções do que está\n",
    "\n",
    "sendo realizado."
   ]
  },
  {
   "attachments": {},
   "cell_type": "markdown",
   "metadata": {},
   "source": [
    "# <b style=\"color:#f87730\"> 🧰 Importando bibliotecas e o DataFrame. </b>"
   ]
  },
  {
   "attachments": {},
   "cell_type": "markdown",
   "metadata": {},
   "source": [
    "Como boa prática no nosso código, devemos começar importando as bibliotecas que serão utilizadas \n",
    "\n",
    "ao longo do código. Enquanto trabalhamos no projeto, podemos sentir a necessidade de \"chamar\" outras bibliotecas.\n",
    "\n",
    "Se for o caso, devemos voltar aqui e adicioná-las abaixo, para que o fluxo de código se mantenha limpo e organizado,\n",
    "\n",
    "e para uma fácil identificação das ferramentas utilizadas. "
   ]
  },
  {
   "cell_type": "code",
   "execution_count": 1,
   "metadata": {},
   "outputs": [],
   "source": [
    "import csv\n",
    "import numpy as np\n",
    "import pandas as pd\n",
    "import seaborn as sns\n",
    "import matplotlib.pyplot as plt"
   ]
  },
  {
   "attachments": {},
   "cell_type": "markdown",
   "metadata": {},
   "source": [
    "Após isso, vamos ler o(s) conjunto(s) de dados que será utilizado, a partir da função **READ** do pandas.\n",
    "\n",
    "O read conta com algumas variantes, a depender do tipo de arquivo lido. \n",
    "\n",
    "Neste caso, **read_csv** pois nossos arquivos estão no formato .csv."
   ]
  },
  {
   "cell_type": "code",
   "execution_count": 2,
   "metadata": {},
   "outputs": [],
   "source": [
    "# Ao rodar o código sem parâmetros (como o encoding), iremos nos deparar com um erro de decodificação de um caráctere.\n",
    "# Pesquisando, podemos encontrar sua causa (caso não fosse conhecida) e sua solução.\n",
    "# Nesse caso, apenas trocar o encoding nos dará o resultado desejado, e conseguiremos ler o arquivo:\n",
    "\n",
    "data = pd.read_csv('Data/forest_fires.csv', encoding='latin-1')"
   ]
  },
  {
   "attachments": {},
   "cell_type": "markdown",
   "metadata": {},
   "source": [
    "Definindo o estilo visual padrão dos gráficos:"
   ]
  },
  {
   "cell_type": "code",
   "execution_count": 3,
   "metadata": {},
   "outputs": [],
   "source": [
    "plt.style.use('seaborn-darkgrid')"
   ]
  },
  {
   "attachments": {},
   "cell_type": "markdown",
   "metadata": {},
   "source": [
    "# 🌎 **Visão geral e Tratamento dos dados iniciais**"
   ]
  },
  {
   "attachments": {},
   "cell_type": "markdown",
   "metadata": {},
   "source": [
    "## 🔷 Início"
   ]
  },
  {
   "attachments": {},
   "cell_type": "markdown",
   "metadata": {},
   "source": [
    "Nosso **DataFrame (DF)** tem poucas colunas, e fazendo sua chamada conseguimos visualizá-las:"
   ]
  },
  {
   "cell_type": "code",
   "execution_count": 4,
   "metadata": {},
   "outputs": [
    {
     "data": {
      "text/html": [
       "<div>\n",
       "<style scoped>\n",
       "    .dataframe tbody tr th:only-of-type {\n",
       "        vertical-align: middle;\n",
       "    }\n",
       "\n",
       "    .dataframe tbody tr th {\n",
       "        vertical-align: top;\n",
       "    }\n",
       "\n",
       "    .dataframe thead th {\n",
       "        text-align: right;\n",
       "    }\n",
       "</style>\n",
       "<table border=\"1\" class=\"dataframe\">\n",
       "  <thead>\n",
       "    <tr style=\"text-align: right;\">\n",
       "      <th></th>\n",
       "      <th>year</th>\n",
       "      <th>state</th>\n",
       "      <th>month</th>\n",
       "      <th>number</th>\n",
       "      <th>date</th>\n",
       "    </tr>\n",
       "  </thead>\n",
       "  <tbody>\n",
       "    <tr>\n",
       "      <th>0</th>\n",
       "      <td>1998</td>\n",
       "      <td>Acre</td>\n",
       "      <td>Janeiro</td>\n",
       "      <td>0.0</td>\n",
       "      <td>1998-01-01</td>\n",
       "    </tr>\n",
       "    <tr>\n",
       "      <th>1</th>\n",
       "      <td>1999</td>\n",
       "      <td>Acre</td>\n",
       "      <td>Janeiro</td>\n",
       "      <td>0.0</td>\n",
       "      <td>1999-01-01</td>\n",
       "    </tr>\n",
       "    <tr>\n",
       "      <th>2</th>\n",
       "      <td>2000</td>\n",
       "      <td>Acre</td>\n",
       "      <td>Janeiro</td>\n",
       "      <td>0.0</td>\n",
       "      <td>2000-01-01</td>\n",
       "    </tr>\n",
       "    <tr>\n",
       "      <th>3</th>\n",
       "      <td>2001</td>\n",
       "      <td>Acre</td>\n",
       "      <td>Janeiro</td>\n",
       "      <td>0.0</td>\n",
       "      <td>2001-01-01</td>\n",
       "    </tr>\n",
       "    <tr>\n",
       "      <th>4</th>\n",
       "      <td>2002</td>\n",
       "      <td>Acre</td>\n",
       "      <td>Janeiro</td>\n",
       "      <td>0.0</td>\n",
       "      <td>2002-01-01</td>\n",
       "    </tr>\n",
       "  </tbody>\n",
       "</table>\n",
       "</div>"
      ],
      "text/plain": [
       "   year state    month  number        date\n",
       "0  1998  Acre  Janeiro     0.0  1998-01-01\n",
       "1  1999  Acre  Janeiro     0.0  1999-01-01\n",
       "2  2000  Acre  Janeiro     0.0  2000-01-01\n",
       "3  2001  Acre  Janeiro     0.0  2001-01-01\n",
       "4  2002  Acre  Janeiro     0.0  2002-01-01"
      ]
     },
     "execution_count": 4,
     "metadata": {},
     "output_type": "execute_result"
    }
   ],
   "source": [
    "data.head()"
   ]
  },
  {
   "attachments": {},
   "cell_type": "markdown",
   "metadata": {},
   "source": [
    "Caso não fosse o caso, poderíamos ver todas a partir da propriedade **COLUMNS**:"
   ]
  },
  {
   "cell_type": "code",
   "execution_count": 5,
   "metadata": {},
   "outputs": [
    {
     "data": {
      "text/plain": [
       "Index(['year', 'state', 'month', 'number', 'date'], dtype='object')"
      ]
     },
     "execution_count": 5,
     "metadata": {},
     "output_type": "execute_result"
    }
   ],
   "source": [
    "data.columns"
   ]
  },
  {
   "attachments": {},
   "cell_type": "markdown",
   "metadata": {},
   "source": [
    "O shape nos retorna uma **TUPLA** com o número de linhas e colunas do nosso DF:"
   ]
  },
  {
   "cell_type": "code",
   "execution_count": 6,
   "metadata": {},
   "outputs": [
    {
     "data": {
      "text/plain": [
       "(6454, 5)"
      ]
     },
     "execution_count": 6,
     "metadata": {},
     "output_type": "execute_result"
    }
   ],
   "source": [
    "data.shape"
   ]
  },
  {
   "attachments": {},
   "cell_type": "markdown",
   "metadata": {},
   "source": [
    "## 🔷 Tipos"
   ]
  },
  {
   "attachments": {},
   "cell_type": "markdown",
   "metadata": {},
   "source": [
    "Outra propriedade importante, a **DTYPES**, nos permite ver os nomes das colunas e os tipos de dados que elas armazenam.\n",
    "\n",
    "É de extrema importância saber qual o tipo em que estão armazenados os nossos dados, para pensarmos na melhor\n",
    "\n",
    "solução para os problemas que envolverão essas entradas em questões como **performance** e **tratamento dos dados**."
   ]
  },
  {
   "cell_type": "code",
   "execution_count": 7,
   "metadata": {},
   "outputs": [
    {
     "data": {
      "text/plain": [
       "year        int64\n",
       "state      object\n",
       "month      object\n",
       "number    float64\n",
       "date       object\n",
       "dtype: object"
      ]
     },
     "execution_count": 7,
     "metadata": {},
     "output_type": "execute_result"
    }
   ],
   "source": [
    "data.dtypes"
   ]
  },
  {
   "attachments": {},
   "cell_type": "markdown",
   "metadata": {},
   "source": [
    "Um exemplo claro disso é a coluna **date**, que atualmente está como object (string). Caso fosse utilizar essa coluna,\n",
    "\n",
    " ela seria mantida como **TIMESTAMP/DATETIME**, sendo transformada utilizando a função (to_datetime):"
   ]
  },
  {
   "cell_type": "code",
   "execution_count": 8,
   "metadata": {},
   "outputs": [
    {
     "data": {
      "text/plain": [
       "0   1998-01-01\n",
       "1   1999-01-01\n",
       "2   2000-01-01\n",
       "3   2001-01-01\n",
       "4   2002-01-01\n",
       "Name: date, dtype: datetime64[ns]"
      ]
     },
     "execution_count": 8,
     "metadata": {},
     "output_type": "execute_result"
    }
   ],
   "source": [
    "data['date'] = pd.to_datetime(data.date)\n",
    "data['date'].head(5)\n"
   ]
  },
  {
   "attachments": {},
   "cell_type": "markdown",
   "metadata": {},
   "source": [
    "Porém, se olharmos com um pouco mais de cuidado para essa coluna, vamos perceber sua redundância:\n",
    "\n",
    "todos os meses nessa coluna estão como 01, inutilizando o seu propósito. Os dados podem ter sido\n",
    "\n",
    "compilados de forma errada antes de serem enviados para o Kaggle ou para a própria fonte primária\n",
    "\n",
    "de dados, que não está mais disponível de forma oficial."
   ]
  },
  {
   "cell_type": "code",
   "execution_count": 9,
   "metadata": {},
   "outputs": [
    {
     "data": {
      "text/plain": [
       "1    6454\n",
       "Name: date, dtype: int64"
      ]
     },
     "execution_count": 9,
     "metadata": {},
     "output_type": "execute_result"
    }
   ],
   "source": [
    "data.date.dt.month.value_counts()"
   ]
  },
  {
   "attachments": {},
   "cell_type": "markdown",
   "metadata": {},
   "source": [
    "Com isso, opto por remover esta coluna do nosso DF, já que suas informações já existem nas colunas \"year\" e \"month\":\n",
    "\n",
    "> ❗ ATENÇÃO\n",
    ">\n",
    ">   Para a alteração ser atribuída e não apenas visualizada, devemos atribuir a operação (drop) a uma variável,\n",
    ">\n",
    ">   neste caso, o próprio DF. Pode ser feito como na atribuição abaixo, ou usando o parâmetro **INPLACE**, que apesar de funcionar,\n",
    ">\n",
    ">   é atualmente uma prática desencorajada pela própria documentação do Pandas."
   ]
  },
  {
   "cell_type": "code",
   "execution_count": 10,
   "metadata": {},
   "outputs": [],
   "source": [
    "data = data.drop(\"date\", axis=1)"
   ]
  },
  {
   "attachments": {},
   "cell_type": "markdown",
   "metadata": {},
   "source": [
    "Continuando a troca dos tipos de dados, percebemos que a coluna \"number\" está no formato **FLOAT**, que serve para números decimais.\n",
    "\n",
    "Porém, podemos passar essa coluna para **INT**, já que esperamos apenas valores inteiros (não existe \"um incêndio e meio\")."
   ]
  },
  {
   "cell_type": "code",
   "execution_count": 11,
   "metadata": {},
   "outputs": [
    {
     "data": {
      "text/plain": [
       "year       int64\n",
       "state     object\n",
       "month     object\n",
       "number     int64\n",
       "dtype: object"
      ]
     },
     "execution_count": 11,
     "metadata": {},
     "output_type": "execute_result"
    }
   ],
   "source": [
    "data.number = data.number.astype('int64')\n",
    "\n",
    "# Visualizando a alteração:\n",
    "\n",
    "data.dtypes"
   ]
  },
  {
   "attachments": {},
   "cell_type": "markdown",
   "metadata": {},
   "source": [
    "____"
   ]
  },
  {
   "attachments": {},
   "cell_type": "markdown",
   "metadata": {},
   "source": [
    "## 🔷 Duplicados"
   ]
  },
  {
   "attachments": {},
   "cell_type": "markdown",
   "metadata": {},
   "source": [
    "Agora, verificaremos se existem **dados duplicados**. Na linha de código abaixo,\n",
    "\n",
    "selecionamos dentro do conjunto de dados aqueles dados que são duplicados,\n",
    "\n",
    "e com o parâmetro Keep setado p/ False, podemos ter uma visão de todas entradas repetidas.\n",
    "\n",
    "> ❗ Atenção\n",
    ">\n",
    "> O keep=False servirá apenas p/ a visualização, devemos lembrar de retirar o parâmetro\n",
    ">\n",
    "> ao realizar a remoção dos duplicados, caso contrário nenhum dos N registros repetidos\n",
    ">\n",
    "> permanecerá nos nossos dados."
   ]
  },
  {
   "cell_type": "code",
   "execution_count": 12,
   "metadata": {},
   "outputs": [
    {
     "data": {
      "text/html": [
       "<div>\n",
       "<style scoped>\n",
       "    .dataframe tbody tr th:only-of-type {\n",
       "        vertical-align: middle;\n",
       "    }\n",
       "\n",
       "    .dataframe tbody tr th {\n",
       "        vertical-align: top;\n",
       "    }\n",
       "\n",
       "    .dataframe thead th {\n",
       "        text-align: right;\n",
       "    }\n",
       "</style>\n",
       "<table border=\"1\" class=\"dataframe\">\n",
       "  <thead>\n",
       "    <tr style=\"text-align: right;\">\n",
       "      <th></th>\n",
       "      <th>year</th>\n",
       "      <th>state</th>\n",
       "      <th>month</th>\n",
       "      <th>number</th>\n",
       "    </tr>\n",
       "  </thead>\n",
       "  <tbody>\n",
       "    <tr>\n",
       "      <th>258</th>\n",
       "      <td>2017</td>\n",
       "      <td>Alagoas</td>\n",
       "      <td>Janeiro</td>\n",
       "      <td>38</td>\n",
       "    </tr>\n",
       "    <tr>\n",
       "      <th>259</th>\n",
       "      <td>2017</td>\n",
       "      <td>Alagoas</td>\n",
       "      <td>Janeiro</td>\n",
       "      <td>38</td>\n",
       "    </tr>\n",
       "    <tr>\n",
       "      <th>2391</th>\n",
       "      <td>1998</td>\n",
       "      <td>Mato Grosso</td>\n",
       "      <td>Janeiro</td>\n",
       "      <td>0</td>\n",
       "    </tr>\n",
       "    <tr>\n",
       "      <th>2411</th>\n",
       "      <td>1998</td>\n",
       "      <td>Mato Grosso</td>\n",
       "      <td>Fevereiro</td>\n",
       "      <td>0</td>\n",
       "    </tr>\n",
       "    <tr>\n",
       "      <th>2431</th>\n",
       "      <td>1998</td>\n",
       "      <td>Mato Grosso</td>\n",
       "      <td>Março</td>\n",
       "      <td>0</td>\n",
       "    </tr>\n",
       "    <tr>\n",
       "      <th>...</th>\n",
       "      <td>...</td>\n",
       "      <td>...</td>\n",
       "      <td>...</td>\n",
       "      <td>...</td>\n",
       "    </tr>\n",
       "    <tr>\n",
       "      <th>4841</th>\n",
       "      <td>1998</td>\n",
       "      <td>Rio</td>\n",
       "      <td>Abril</td>\n",
       "      <td>0</td>\n",
       "    </tr>\n",
       "    <tr>\n",
       "      <th>4861</th>\n",
       "      <td>1998</td>\n",
       "      <td>Rio</td>\n",
       "      <td>Maio</td>\n",
       "      <td>0</td>\n",
       "    </tr>\n",
       "    <tr>\n",
       "      <th>4864</th>\n",
       "      <td>2001</td>\n",
       "      <td>Rio</td>\n",
       "      <td>Maio</td>\n",
       "      <td>4</td>\n",
       "    </tr>\n",
       "    <tr>\n",
       "      <th>4910</th>\n",
       "      <td>2007</td>\n",
       "      <td>Rio</td>\n",
       "      <td>Julho</td>\n",
       "      <td>7</td>\n",
       "    </tr>\n",
       "    <tr>\n",
       "      <th>4932</th>\n",
       "      <td>2009</td>\n",
       "      <td>Rio</td>\n",
       "      <td>Agosto</td>\n",
       "      <td>1</td>\n",
       "    </tr>\n",
       "  </tbody>\n",
       "</table>\n",
       "<p>61 rows × 4 columns</p>\n",
       "</div>"
      ],
      "text/plain": [
       "      year        state      month  number\n",
       "258   2017      Alagoas    Janeiro      38\n",
       "259   2017      Alagoas    Janeiro      38\n",
       "2391  1998  Mato Grosso    Janeiro       0\n",
       "2411  1998  Mato Grosso  Fevereiro       0\n",
       "2431  1998  Mato Grosso      Março       0\n",
       "...    ...          ...        ...     ...\n",
       "4841  1998          Rio      Abril       0\n",
       "4861  1998          Rio       Maio       0\n",
       "4864  2001          Rio       Maio       4\n",
       "4910  2007          Rio      Julho       7\n",
       "4932  2009          Rio     Agosto       1\n",
       "\n",
       "[61 rows x 4 columns]"
      ]
     },
     "execution_count": 12,
     "metadata": {},
     "output_type": "execute_result"
    }
   ],
   "source": [
    "data[data.duplicated(keep=False)]"
   ]
  },
  {
   "attachments": {},
   "cell_type": "markdown",
   "metadata": {},
   "source": [
    "Ao trabalhar com esse conjunto de dados, percebi (e explico melhor em detalhes na seção <a href='#anomalia'>**Anomalias nos Dados**</a><a id='retorno'>,</a> um pouco abaixo).\n",
    "\n",
    "esse fenômeno será demonstrado abaixo e será contornado levando em consideração a melhor solução possível, visando eliminar a menor\n",
    "\n",
    "quantidade de dados relevantes."
   ]
  },
  {
   "cell_type": "code",
   "execution_count": 13,
   "metadata": {},
   "outputs": [
    {
     "data": {
      "text/html": [
       "<div>\n",
       "<style scoped>\n",
       "    .dataframe tbody tr th:only-of-type {\n",
       "        vertical-align: middle;\n",
       "    }\n",
       "\n",
       "    .dataframe tbody tr th {\n",
       "        vertical-align: top;\n",
       "    }\n",
       "\n",
       "    .dataframe thead th {\n",
       "        text-align: right;\n",
       "    }\n",
       "</style>\n",
       "<table border=\"1\" class=\"dataframe\">\n",
       "  <thead>\n",
       "    <tr style=\"text-align: right;\">\n",
       "      <th></th>\n",
       "      <th>year</th>\n",
       "      <th>state</th>\n",
       "      <th>month</th>\n",
       "      <th>number</th>\n",
       "    </tr>\n",
       "  </thead>\n",
       "  <tbody>\n",
       "    <tr>\n",
       "      <th>4303</th>\n",
       "      <td>1998</td>\n",
       "      <td>Rio</td>\n",
       "      <td>Janeiro</td>\n",
       "      <td>0</td>\n",
       "    </tr>\n",
       "    <tr>\n",
       "      <th>4323</th>\n",
       "      <td>1998</td>\n",
       "      <td>Rio</td>\n",
       "      <td>Fevereiro</td>\n",
       "      <td>0</td>\n",
       "    </tr>\n",
       "    <tr>\n",
       "      <th>4343</th>\n",
       "      <td>1998</td>\n",
       "      <td>Rio</td>\n",
       "      <td>Março</td>\n",
       "      <td>0</td>\n",
       "    </tr>\n",
       "    <tr>\n",
       "      <th>4346</th>\n",
       "      <td>2001</td>\n",
       "      <td>Rio</td>\n",
       "      <td>Março</td>\n",
       "      <td>0</td>\n",
       "    </tr>\n",
       "    <tr>\n",
       "      <th>4351</th>\n",
       "      <td>2006</td>\n",
       "      <td>Rio</td>\n",
       "      <td>Março</td>\n",
       "      <td>8</td>\n",
       "    </tr>\n",
       "    <tr>\n",
       "      <th>4363</th>\n",
       "      <td>1998</td>\n",
       "      <td>Rio</td>\n",
       "      <td>Abril</td>\n",
       "      <td>0</td>\n",
       "    </tr>\n",
       "    <tr>\n",
       "      <th>4369</th>\n",
       "      <td>2004</td>\n",
       "      <td>Rio</td>\n",
       "      <td>Abril</td>\n",
       "      <td>3</td>\n",
       "    </tr>\n",
       "    <tr>\n",
       "      <th>4374</th>\n",
       "      <td>2009</td>\n",
       "      <td>Rio</td>\n",
       "      <td>Abril</td>\n",
       "      <td>1</td>\n",
       "    </tr>\n",
       "    <tr>\n",
       "      <th>4383</th>\n",
       "      <td>1998</td>\n",
       "      <td>Rio</td>\n",
       "      <td>Maio</td>\n",
       "      <td>0</td>\n",
       "    </tr>\n",
       "    <tr>\n",
       "      <th>4386</th>\n",
       "      <td>2001</td>\n",
       "      <td>Rio</td>\n",
       "      <td>Maio</td>\n",
       "      <td>4</td>\n",
       "    </tr>\n",
       "    <tr>\n",
       "      <th>4392</th>\n",
       "      <td>2007</td>\n",
       "      <td>Rio</td>\n",
       "      <td>Maio</td>\n",
       "      <td>2</td>\n",
       "    </tr>\n",
       "    <tr>\n",
       "      <th>4393</th>\n",
       "      <td>2008</td>\n",
       "      <td>Rio</td>\n",
       "      <td>Maio</td>\n",
       "      <td>0</td>\n",
       "    </tr>\n",
       "    <tr>\n",
       "      <th>4406</th>\n",
       "      <td>2001</td>\n",
       "      <td>Rio</td>\n",
       "      <td>Junho</td>\n",
       "      <td>13</td>\n",
       "    </tr>\n",
       "    <tr>\n",
       "      <th>4542</th>\n",
       "      <td>1998</td>\n",
       "      <td>Rio</td>\n",
       "      <td>Janeiro</td>\n",
       "      <td>0</td>\n",
       "    </tr>\n",
       "    <tr>\n",
       "      <th>4561</th>\n",
       "      <td>2017</td>\n",
       "      <td>Rio</td>\n",
       "      <td>Janeiro</td>\n",
       "      <td>28</td>\n",
       "    </tr>\n",
       "    <tr>\n",
       "      <th>4562</th>\n",
       "      <td>1998</td>\n",
       "      <td>Rio</td>\n",
       "      <td>Fevereiro</td>\n",
       "      <td>0</td>\n",
       "    </tr>\n",
       "    <tr>\n",
       "      <th>4582</th>\n",
       "      <td>1998</td>\n",
       "      <td>Rio</td>\n",
       "      <td>Março</td>\n",
       "      <td>0</td>\n",
       "    </tr>\n",
       "    <tr>\n",
       "      <th>4585</th>\n",
       "      <td>2001</td>\n",
       "      <td>Rio</td>\n",
       "      <td>Março</td>\n",
       "      <td>0</td>\n",
       "    </tr>\n",
       "    <tr>\n",
       "      <th>4590</th>\n",
       "      <td>2006</td>\n",
       "      <td>Rio</td>\n",
       "      <td>Março</td>\n",
       "      <td>8</td>\n",
       "    </tr>\n",
       "    <tr>\n",
       "      <th>4602</th>\n",
       "      <td>1998</td>\n",
       "      <td>Rio</td>\n",
       "      <td>Abril</td>\n",
       "      <td>0</td>\n",
       "    </tr>\n",
       "    <tr>\n",
       "      <th>4608</th>\n",
       "      <td>2004</td>\n",
       "      <td>Rio</td>\n",
       "      <td>Abril</td>\n",
       "      <td>3</td>\n",
       "    </tr>\n",
       "    <tr>\n",
       "      <th>4613</th>\n",
       "      <td>2009</td>\n",
       "      <td>Rio</td>\n",
       "      <td>Abril</td>\n",
       "      <td>1</td>\n",
       "    </tr>\n",
       "    <tr>\n",
       "      <th>4622</th>\n",
       "      <td>1998</td>\n",
       "      <td>Rio</td>\n",
       "      <td>Maio</td>\n",
       "      <td>0</td>\n",
       "    </tr>\n",
       "    <tr>\n",
       "      <th>4631</th>\n",
       "      <td>2007</td>\n",
       "      <td>Rio</td>\n",
       "      <td>Maio</td>\n",
       "      <td>2</td>\n",
       "    </tr>\n",
       "    <tr>\n",
       "      <th>4632</th>\n",
       "      <td>2008</td>\n",
       "      <td>Rio</td>\n",
       "      <td>Maio</td>\n",
       "      <td>0</td>\n",
       "    </tr>\n",
       "    <tr>\n",
       "      <th>4645</th>\n",
       "      <td>2001</td>\n",
       "      <td>Rio</td>\n",
       "      <td>Junho</td>\n",
       "      <td>13</td>\n",
       "    </tr>\n",
       "    <tr>\n",
       "      <th>4671</th>\n",
       "      <td>2007</td>\n",
       "      <td>Rio</td>\n",
       "      <td>Julho</td>\n",
       "      <td>7</td>\n",
       "    </tr>\n",
       "    <tr>\n",
       "      <th>4693</th>\n",
       "      <td>2009</td>\n",
       "      <td>Rio</td>\n",
       "      <td>Agosto</td>\n",
       "      <td>1</td>\n",
       "    </tr>\n",
       "    <tr>\n",
       "      <th>4781</th>\n",
       "      <td>1998</td>\n",
       "      <td>Rio</td>\n",
       "      <td>Janeiro</td>\n",
       "      <td>0</td>\n",
       "    </tr>\n",
       "    <tr>\n",
       "      <th>4800</th>\n",
       "      <td>2017</td>\n",
       "      <td>Rio</td>\n",
       "      <td>Janeiro</td>\n",
       "      <td>28</td>\n",
       "    </tr>\n",
       "    <tr>\n",
       "      <th>4801</th>\n",
       "      <td>1998</td>\n",
       "      <td>Rio</td>\n",
       "      <td>Fevereiro</td>\n",
       "      <td>0</td>\n",
       "    </tr>\n",
       "    <tr>\n",
       "      <th>4821</th>\n",
       "      <td>1998</td>\n",
       "      <td>Rio</td>\n",
       "      <td>Março</td>\n",
       "      <td>0</td>\n",
       "    </tr>\n",
       "    <tr>\n",
       "      <th>4841</th>\n",
       "      <td>1998</td>\n",
       "      <td>Rio</td>\n",
       "      <td>Abril</td>\n",
       "      <td>0</td>\n",
       "    </tr>\n",
       "    <tr>\n",
       "      <th>4861</th>\n",
       "      <td>1998</td>\n",
       "      <td>Rio</td>\n",
       "      <td>Maio</td>\n",
       "      <td>0</td>\n",
       "    </tr>\n",
       "    <tr>\n",
       "      <th>4864</th>\n",
       "      <td>2001</td>\n",
       "      <td>Rio</td>\n",
       "      <td>Maio</td>\n",
       "      <td>4</td>\n",
       "    </tr>\n",
       "    <tr>\n",
       "      <th>4910</th>\n",
       "      <td>2007</td>\n",
       "      <td>Rio</td>\n",
       "      <td>Julho</td>\n",
       "      <td>7</td>\n",
       "    </tr>\n",
       "    <tr>\n",
       "      <th>4932</th>\n",
       "      <td>2009</td>\n",
       "      <td>Rio</td>\n",
       "      <td>Agosto</td>\n",
       "      <td>1</td>\n",
       "    </tr>\n",
       "  </tbody>\n",
       "</table>\n",
       "</div>"
      ],
      "text/plain": [
       "      year state      month  number\n",
       "4303  1998   Rio    Janeiro       0\n",
       "4323  1998   Rio  Fevereiro       0\n",
       "4343  1998   Rio      Março       0\n",
       "4346  2001   Rio      Março       0\n",
       "4351  2006   Rio      Março       8\n",
       "4363  1998   Rio      Abril       0\n",
       "4369  2004   Rio      Abril       3\n",
       "4374  2009   Rio      Abril       1\n",
       "4383  1998   Rio       Maio       0\n",
       "4386  2001   Rio       Maio       4\n",
       "4392  2007   Rio       Maio       2\n",
       "4393  2008   Rio       Maio       0\n",
       "4406  2001   Rio      Junho      13\n",
       "4542  1998   Rio    Janeiro       0\n",
       "4561  2017   Rio    Janeiro      28\n",
       "4562  1998   Rio  Fevereiro       0\n",
       "4582  1998   Rio      Março       0\n",
       "4585  2001   Rio      Março       0\n",
       "4590  2006   Rio      Março       8\n",
       "4602  1998   Rio      Abril       0\n",
       "4608  2004   Rio      Abril       3\n",
       "4613  2009   Rio      Abril       1\n",
       "4622  1998   Rio       Maio       0\n",
       "4631  2007   Rio       Maio       2\n",
       "4632  2008   Rio       Maio       0\n",
       "4645  2001   Rio      Junho      13\n",
       "4671  2007   Rio      Julho       7\n",
       "4693  2009   Rio     Agosto       1\n",
       "4781  1998   Rio    Janeiro       0\n",
       "4800  2017   Rio    Janeiro      28\n",
       "4801  1998   Rio  Fevereiro       0\n",
       "4821  1998   Rio      Março       0\n",
       "4841  1998   Rio      Abril       0\n",
       "4861  1998   Rio       Maio       0\n",
       "4864  2001   Rio       Maio       4\n",
       "4910  2007   Rio      Julho       7\n",
       "4932  2009   Rio     Agosto       1"
      ]
     },
     "execution_count": 13,
     "metadata": {},
     "output_type": "execute_result"
    }
   ],
   "source": [
    "data[data.duplicated(keep=False)].query('state == \"Rio\"')"
   ]
  },
  {
   "attachments": {},
   "cell_type": "markdown",
   "metadata": {},
   "source": [
    "________"
   ]
  },
  {
   "attachments": {},
   "cell_type": "markdown",
   "metadata": {},
   "source": [
    "Outro ponto importante que devemos estar atentos são valores nulos e faltantes. Podemos determinar a sua quantidade da seguinte maneira:\n",
    "\n",
    "Usamos o método .isnull(), que determinará uma variável booleana ao registro (False se o registro estiver preenchido, True caso esteja faltando)\n",
    "\n",
    "Após isso, usamos outro método, o .sum() para realizar a contagem geral do total de registros faltantes. Caso exista algum registro faltante devemos observar\n",
    "\n",
    "um número diferente de 0, e tomar as devidas providências para que nossas análises não sejam contaminadas ou atrapalhadas por ele."
   ]
  },
  {
   "cell_type": "code",
   "execution_count": 14,
   "metadata": {},
   "outputs": [
    {
     "data": {
      "text/plain": [
       "year      0\n",
       "state     0\n",
       "month     0\n",
       "number    0\n",
       "dtype: int64"
      ]
     },
     "execution_count": 14,
     "metadata": {},
     "output_type": "execute_result"
    }
   ],
   "source": [
    "# No conjunto de dados trabalhado, observamos que todos os valores existem e não há registros nulos, logo não será necessário nenhuma alteração aqui:\n",
    "\n",
    "data.isnull().sum()"
   ]
  },
  {
   "attachments": {},
   "cell_type": "markdown",
   "metadata": {},
   "source": [
    "____________"
   ]
  },
  {
   "attachments": {},
   "cell_type": "markdown",
   "metadata": {},
   "source": [
    "________"
   ]
  },
  {
   "attachments": {},
   "cell_type": "markdown",
   "metadata": {},
   "source": [
    "## 🔠 Corrigindo erros ortográficos"
   ]
  },
  {
   "attachments": {},
   "cell_type": "markdown",
   "metadata": {},
   "source": [
    "Aqui, identifico quais os estados estão com nomes reduzidos ou incorretos para facilitar a identificação dos mesmos pelo PBI.\n",
    "\n",
    "Em seguida, crio um **Dicionário** contendo como chave os nomes incorretos e como valor os nomes certos."
   ]
  },
  {
   "cell_type": "code",
   "execution_count": 15,
   "metadata": {},
   "outputs": [
    {
     "data": {
      "text/plain": [
       "array(['Acre', 'Alagoas', 'Amapa', 'Amazonas', 'Bahia', 'Ceara',\n",
       "       'Distrito Federal', 'Espirito Santo', 'Goias', 'Maranhao',\n",
       "       'Mato Grosso', 'Minas Gerais', 'Pará', 'Paraiba', 'Pernambuco',\n",
       "       'Piau', 'Rio', 'Rondonia', 'Roraima', 'Santa Catarina',\n",
       "       'Sao Paulo', 'Sergipe', 'Tocantins'], dtype=object)"
      ]
     },
     "execution_count": 15,
     "metadata": {},
     "output_type": "execute_result"
    }
   ],
   "source": [
    "data.state.unique()"
   ]
  },
  {
   "cell_type": "code",
   "execution_count": 16,
   "metadata": {},
   "outputs": [],
   "source": [
    "corrigidos = {'Amapa':'Amapá', 'Ceara':'Ceará', 'Espirito Santo':'Espírito Santo',\n",
    "'Goias':'Goiás', 'Maranhao':'Maranhão', 'Paraiba':'Paraíba', 'Piau':'Piauí',\n",
    "'Rio':'Rio de Janeiro', 'Rondonia':'Rondônia', 'Sao Paulo':'São Paulo'}"
   ]
  },
  {
   "attachments": {},
   "cell_type": "markdown",
   "metadata": {},
   "source": [
    "Após realizar esse trabalho manual, utilizo o método **REPLACE** do Pandas para substituir as chaves pelos valores corretos."
   ]
  },
  {
   "cell_type": "code",
   "execution_count": 17,
   "metadata": {},
   "outputs": [],
   "source": [
    "data = data.replace(corrigidos.keys(), corrigidos.values())"
   ]
  },
  {
   "cell_type": "code",
   "execution_count": 18,
   "metadata": {},
   "outputs": [
    {
     "data": {
      "text/plain": [
       "array(['Acre', 'Alagoas', 'Amapá', 'Amazonas', 'Bahia', 'Ceará',\n",
       "       'Distrito Federal', 'Espírito Santo', 'Goiás', 'Maranhão',\n",
       "       'Mato Grosso', 'Minas Gerais', 'Pará', 'Paraíba', 'Pernambuco',\n",
       "       'Piauí', 'Rio de Janeiro', 'Rondônia', 'Roraima', 'Santa Catarina',\n",
       "       'São Paulo', 'Sergipe', 'Tocantins'], dtype=object)"
      ]
     },
     "execution_count": 18,
     "metadata": {},
     "output_type": "execute_result"
    }
   ],
   "source": [
    "# Com isso, chamamos novamente o UNIQUE para ver se os dados foram substituídos corretamente.\n",
    "\n",
    "data.state.unique()"
   ]
  },
  {
   "attachments": {},
   "cell_type": "markdown",
   "metadata": {},
   "source": [
    "É importante atentar-se à falta de alguns estados no conjunto de dados. São eles:\n",
    "\n",
    "> _Rio Grande do Norte; Rio Grande do Sul; Paraná e Mato Grosso do Sul._\n",
    "\n",
    "Escreverei mais sobre isso na seção abaixo."
   ]
  },
  {
   "attachments": {},
   "cell_type": "markdown",
   "metadata": {},
   "source": [
    "______"
   ]
  },
  {
   "attachments": {},
   "cell_type": "markdown",
   "metadata": {},
   "source": [
    "# 📣 <a id='anomalia' style=\"color:red\">ANOMALIAS NOS DADOS</a>\n",
    "\n",
    "Todos os plots e informações obtidas através dos dados nesse notebook <b style=\"color:red\">NÃO</b> são representações fiéis da realidade devido a erros críticos nos dados."
   ]
  },
  {
   "attachments": {},
   "cell_type": "markdown",
   "metadata": {},
   "source": [
    "> <a href='#retorno'>Voltar para seção de dados repetidos</a>"
   ]
  },
  {
   "attachments": {},
   "cell_type": "markdown",
   "metadata": {},
   "source": [
    "## ➿ Contexto"
   ]
  },
  {
   "attachments": {},
   "cell_type": "markdown",
   "metadata": {},
   "source": [
    "Ao separar os dados por estados verificamos a seguinte situação:\n",
    "\n",
    "Os estados de Mato Grosso e Paraíba contam com 2x o número de registros normal, e Rio conta com 3x este número."
   ]
  },
  {
   "cell_type": "code",
   "execution_count": 19,
   "metadata": {},
   "outputs": [
    {
     "data": {
      "text/html": [
       "<div>\n",
       "<style scoped>\n",
       "    .dataframe tbody tr th:only-of-type {\n",
       "        vertical-align: middle;\n",
       "    }\n",
       "\n",
       "    .dataframe tbody tr th {\n",
       "        vertical-align: top;\n",
       "    }\n",
       "\n",
       "    .dataframe thead th {\n",
       "        text-align: right;\n",
       "    }\n",
       "</style>\n",
       "<table border=\"1\" class=\"dataframe\">\n",
       "  <thead>\n",
       "    <tr style=\"text-align: right;\">\n",
       "      <th></th>\n",
       "      <th>year</th>\n",
       "      <th>month</th>\n",
       "      <th>number</th>\n",
       "    </tr>\n",
       "    <tr>\n",
       "      <th>state</th>\n",
       "      <th></th>\n",
       "      <th></th>\n",
       "      <th></th>\n",
       "    </tr>\n",
       "  </thead>\n",
       "  <tbody>\n",
       "    <tr>\n",
       "      <th>Acre</th>\n",
       "      <td>239</td>\n",
       "      <td>239</td>\n",
       "      <td>239</td>\n",
       "    </tr>\n",
       "    <tr>\n",
       "      <th>Alagoas</th>\n",
       "      <td>240</td>\n",
       "      <td>240</td>\n",
       "      <td>240</td>\n",
       "    </tr>\n",
       "    <tr>\n",
       "      <th>Amapá</th>\n",
       "      <td>239</td>\n",
       "      <td>239</td>\n",
       "      <td>239</td>\n",
       "    </tr>\n",
       "    <tr>\n",
       "      <th>Amazonas</th>\n",
       "      <td>239</td>\n",
       "      <td>239</td>\n",
       "      <td>239</td>\n",
       "    </tr>\n",
       "    <tr>\n",
       "      <th>Bahia</th>\n",
       "      <td>239</td>\n",
       "      <td>239</td>\n",
       "      <td>239</td>\n",
       "    </tr>\n",
       "    <tr>\n",
       "      <th>Ceará</th>\n",
       "      <td>239</td>\n",
       "      <td>239</td>\n",
       "      <td>239</td>\n",
       "    </tr>\n",
       "    <tr>\n",
       "      <th>Distrito Federal</th>\n",
       "      <td>239</td>\n",
       "      <td>239</td>\n",
       "      <td>239</td>\n",
       "    </tr>\n",
       "    <tr>\n",
       "      <th>Espírito Santo</th>\n",
       "      <td>239</td>\n",
       "      <td>239</td>\n",
       "      <td>239</td>\n",
       "    </tr>\n",
       "    <tr>\n",
       "      <th>Goiás</th>\n",
       "      <td>239</td>\n",
       "      <td>239</td>\n",
       "      <td>239</td>\n",
       "    </tr>\n",
       "    <tr>\n",
       "      <th>Maranhão</th>\n",
       "      <td>239</td>\n",
       "      <td>239</td>\n",
       "      <td>239</td>\n",
       "    </tr>\n",
       "    <tr>\n",
       "      <th>Mato Grosso</th>\n",
       "      <td>478</td>\n",
       "      <td>478</td>\n",
       "      <td>478</td>\n",
       "    </tr>\n",
       "    <tr>\n",
       "      <th>Minas Gerais</th>\n",
       "      <td>239</td>\n",
       "      <td>239</td>\n",
       "      <td>239</td>\n",
       "    </tr>\n",
       "    <tr>\n",
       "      <th>Paraíba</th>\n",
       "      <td>478</td>\n",
       "      <td>478</td>\n",
       "      <td>478</td>\n",
       "    </tr>\n",
       "    <tr>\n",
       "      <th>Pará</th>\n",
       "      <td>239</td>\n",
       "      <td>239</td>\n",
       "      <td>239</td>\n",
       "    </tr>\n",
       "    <tr>\n",
       "      <th>Pernambuco</th>\n",
       "      <td>239</td>\n",
       "      <td>239</td>\n",
       "      <td>239</td>\n",
       "    </tr>\n",
       "    <tr>\n",
       "      <th>Piauí</th>\n",
       "      <td>239</td>\n",
       "      <td>239</td>\n",
       "      <td>239</td>\n",
       "    </tr>\n",
       "    <tr>\n",
       "      <th>Rio de Janeiro</th>\n",
       "      <td>717</td>\n",
       "      <td>717</td>\n",
       "      <td>717</td>\n",
       "    </tr>\n",
       "    <tr>\n",
       "      <th>Rondônia</th>\n",
       "      <td>239</td>\n",
       "      <td>239</td>\n",
       "      <td>239</td>\n",
       "    </tr>\n",
       "    <tr>\n",
       "      <th>Roraima</th>\n",
       "      <td>239</td>\n",
       "      <td>239</td>\n",
       "      <td>239</td>\n",
       "    </tr>\n",
       "    <tr>\n",
       "      <th>Santa Catarina</th>\n",
       "      <td>239</td>\n",
       "      <td>239</td>\n",
       "      <td>239</td>\n",
       "    </tr>\n",
       "    <tr>\n",
       "      <th>Sergipe</th>\n",
       "      <td>239</td>\n",
       "      <td>239</td>\n",
       "      <td>239</td>\n",
       "    </tr>\n",
       "    <tr>\n",
       "      <th>São Paulo</th>\n",
       "      <td>239</td>\n",
       "      <td>239</td>\n",
       "      <td>239</td>\n",
       "    </tr>\n",
       "    <tr>\n",
       "      <th>Tocantins</th>\n",
       "      <td>239</td>\n",
       "      <td>239</td>\n",
       "      <td>239</td>\n",
       "    </tr>\n",
       "  </tbody>\n",
       "</table>\n",
       "</div>"
      ],
      "text/plain": [
       "                  year  month  number\n",
       "state                                \n",
       "Acre               239    239     239\n",
       "Alagoas            240    240     240\n",
       "Amapá              239    239     239\n",
       "Amazonas           239    239     239\n",
       "Bahia              239    239     239\n",
       "Ceará              239    239     239\n",
       "Distrito Federal   239    239     239\n",
       "Espírito Santo     239    239     239\n",
       "Goiás              239    239     239\n",
       "Maranhão           239    239     239\n",
       "Mato Grosso        478    478     478\n",
       "Minas Gerais       239    239     239\n",
       "Paraíba            478    478     478\n",
       "Pará               239    239     239\n",
       "Pernambuco         239    239     239\n",
       "Piauí              239    239     239\n",
       "Rio de Janeiro     717    717     717\n",
       "Rondônia           239    239     239\n",
       "Roraima            239    239     239\n",
       "Santa Catarina     239    239     239\n",
       "Sergipe            239    239     239\n",
       "São Paulo          239    239     239\n",
       "Tocantins          239    239     239"
      ]
     },
     "execution_count": 19,
     "metadata": {},
     "output_type": "execute_result"
    }
   ],
   "source": [
    "data.groupby('state').count()"
   ]
  },
  {
   "attachments": {},
   "cell_type": "markdown",
   "metadata": {},
   "source": [
    "Os dados fornecidos para cumprir o documento foram fornecidos através do Kaggle, compilados e enviados por um usuário contém algumas inconsistências.\n",
    "\n",
    "Como visto acima, existem estados faltantes: _Rio Grande do Norte, Rio Grande do Sul, Paraná, Mato Grosso do Sul_. Muito provavelmente houve um erro\n",
    "\n",
    "ao parsear e separar os dados, transformando-os em um dataset:\n",
    "\n",
    "<li>\"Rio\" -> Rio de Janeiro, Rio Grande do Norte e Rio Grande do Sul</li>\n",
    "<li>\"Paraíba\" -> Paraíba e Paraná</li>\n",
    "<li>\"Mato Grosso\" -> Mato Grosso e Mato Grosso do Sul</li>\n",
    "\n",
    "Os estados acima estão com informações **UNIDAS**. Em todos os casos, creio que o REGEX estava configurado de maneira incorreta:\n",
    "\n",
    "<li>apenas para \"Rio\" e acabou apagando o restante do nome do estado.</li>\n",
    "<li>possivelmente o \"á\" no final do nome Paraná fez com que o nome do estado acabasse sendo totalmente apagado,\n",
    "\n",
    "e posteriormente preenchido como \"Paraíba\" através do método fillna(), já que estão sequencialmente posicionados.</li>\n",
    "<li>semelhante ao \"Rio\", o REGEX desconsiderou parte da string</li>\n"
   ]
  },
  {
   "attachments": {},
   "cell_type": "markdown",
   "metadata": {},
   "source": [
    "## 🧨 **Implicações**:"
   ]
  },
  {
   "attachments": {},
   "cell_type": "markdown",
   "metadata": {},
   "source": [
    "Desta forma, os dados fornecidos estão **CRITICAMENTE** comprometidos, de forma que não é possível determinar com exatidão as informações dos seus\n",
    "\n",
    "locais originais. Haverão estados com uma **anomalia** em seus números, e haverão gráficos com os estados faltantes no Power BI.\n"
   ]
  },
  {
   "attachments": {},
   "cell_type": "markdown",
   "metadata": {},
   "source": [
    "## **⭐ Fonte Primária**\n",
    "\n",
    "Devido ao prazo de entrega desse material, não será possível realmente explorar a fundo a possibilidade de trabalhar com os dados primários,\n",
    "\n",
    "mas ela estará presente a título de curiosidade: sempre busque uma alternativa para entender o problema. Tenha a curiosidade."
   ]
  },
  {
   "attachments": {},
   "cell_type": "markdown",
   "metadata": {},
   "source": [
    "No próprio Kaggle podemos ver que o autor deixou o link para a fonte original dos dados:\n",
    "  > https://dados.gov.br/dataset/sistema-nacional-de-informacoes-florestais-snif\n",
    "\n",
    "  A página entretanto está fora do ar, com o código de erro 404, citando que a página pode não existir mais. E de fato ela foi desativada em 2021.\n",
    "  \n",
    "  Porém isso não vai impedir nosso acesso a esses dados. Utilizando a ferramenta \"Wayback Machine\" conseguimos ver instâncias do site salvas em momentos do passado.\n",
    "\n",
    "  Nem todas as \"capturas\" do site são 100% funcionais, podendo encontrar algumas mais detalhadas e outras com apenas a frações do conjunto do site.\n",
    "\n",
    "  Buscando um pouco percebemos que em 2018 houve um grande movimento de preservação de capturas do site, de forma que encontramos versões totalmente funcionais,\n",
    "\n",
    "  onde até os links de download funcionam, apesar do mirror original não existir mais. Com isso, conseguimos chegar à seguinte captura da página:\n",
    "\n",
    "  > https://web.archive.org/web/20181223043304/http://dados.gov.br/dataset/sistema-nacional-de-informacoes-florestais-snif/resource/949310f1-05bc-4f56-a63f-aef67aac6164\n",
    "\n",
    "Através dela, podemos baixar o conjunto de dados original:"
   ]
  },
  {
   "cell_type": "code",
   "execution_count": 20,
   "metadata": {},
   "outputs": [
    {
     "data": {
      "text/html": [
       "<div>\n",
       "<style scoped>\n",
       "    .dataframe tbody tr th:only-of-type {\n",
       "        vertical-align: middle;\n",
       "    }\n",
       "\n",
       "    .dataframe tbody tr th {\n",
       "        vertical-align: top;\n",
       "    }\n",
       "\n",
       "    .dataframe thead th {\n",
       "        text-align: right;\n",
       "    }\n",
       "</style>\n",
       "<table border=\"1\" class=\"dataframe\">\n",
       "  <thead>\n",
       "    <tr style=\"text-align: right;\">\n",
       "      <th></th>\n",
       "      <th>\"Ano</th>\n",
       "      <th>Estado</th>\n",
       "      <th>Mês</th>\n",
       "      <th>Número</th>\n",
       "      <th>Período\"</th>\n",
       "    </tr>\n",
       "  </thead>\n",
       "  <tbody>\n",
       "    <tr>\n",
       "      <th>0</th>\n",
       "      <td>1998</td>\n",
       "      <td>Acre</td>\n",
       "      <td>Janeiro</td>\n",
       "      <td>0</td>\n",
       "      <td>01/01/1998</td>\n",
       "    </tr>\n",
       "    <tr>\n",
       "      <th>1</th>\n",
       "      <td>1999</td>\n",
       "      <td>Acre</td>\n",
       "      <td>Janeiro</td>\n",
       "      <td>0</td>\n",
       "      <td>01/01/1999</td>\n",
       "    </tr>\n",
       "    <tr>\n",
       "      <th>2</th>\n",
       "      <td>2000</td>\n",
       "      <td>Acre</td>\n",
       "      <td>Janeiro</td>\n",
       "      <td>0</td>\n",
       "      <td>01/01/2000</td>\n",
       "    </tr>\n",
       "    <tr>\n",
       "      <th>3</th>\n",
       "      <td>2001</td>\n",
       "      <td>Acre</td>\n",
       "      <td>Janeiro</td>\n",
       "      <td>0</td>\n",
       "      <td>01/01/2001</td>\n",
       "    </tr>\n",
       "    <tr>\n",
       "      <th>4</th>\n",
       "      <td>2002</td>\n",
       "      <td>Acre</td>\n",
       "      <td>Janeiro</td>\n",
       "      <td>0</td>\n",
       "      <td>01/01/2002</td>\n",
       "    </tr>\n",
       "    <tr>\n",
       "      <th>...</th>\n",
       "      <td>...</td>\n",
       "      <td>...</td>\n",
       "      <td>...</td>\n",
       "      <td>...</td>\n",
       "      <td>...</td>\n",
       "    </tr>\n",
       "    <tr>\n",
       "      <th>6449</th>\n",
       "      <td>2012</td>\n",
       "      <td>Tocantins</td>\n",
       "      <td>Dezembro</td>\n",
       "      <td>128</td>\n",
       "      <td>01/01/2012</td>\n",
       "    </tr>\n",
       "    <tr>\n",
       "      <th>6450</th>\n",
       "      <td>2013</td>\n",
       "      <td>Tocantins</td>\n",
       "      <td>Dezembro</td>\n",
       "      <td>85</td>\n",
       "      <td>01/01/2013</td>\n",
       "    </tr>\n",
       "    <tr>\n",
       "      <th>6451</th>\n",
       "      <td>2014</td>\n",
       "      <td>Tocantins</td>\n",
       "      <td>Dezembro</td>\n",
       "      <td>223</td>\n",
       "      <td>01/01/2014</td>\n",
       "    </tr>\n",
       "    <tr>\n",
       "      <th>6452</th>\n",
       "      <td>2015</td>\n",
       "      <td>Tocantins</td>\n",
       "      <td>Dezembro</td>\n",
       "      <td>373</td>\n",
       "      <td>01/01/2015</td>\n",
       "    </tr>\n",
       "    <tr>\n",
       "      <th>6453</th>\n",
       "      <td>2016</td>\n",
       "      <td>Tocantins</td>\n",
       "      <td>Dezembro</td>\n",
       "      <td>119</td>\n",
       "      <td>01/01/2016</td>\n",
       "    </tr>\n",
       "  </tbody>\n",
       "</table>\n",
       "<p>6454 rows × 5 columns</p>\n",
       "</div>"
      ],
      "text/plain": [
       "      \"Ano     Estado       Mês Número    Período\"\n",
       "0     1998       Acre   Janeiro      0  01/01/1998\n",
       "1     1999       Acre   Janeiro      0  01/01/1999\n",
       "2     2000       Acre   Janeiro      0  01/01/2000\n",
       "3     2001       Acre   Janeiro      0  01/01/2001\n",
       "4     2002       Acre   Janeiro      0  01/01/2002\n",
       "...    ...        ...       ...    ...         ...\n",
       "6449  2012  Tocantins  Dezembro    128  01/01/2012\n",
       "6450  2013  Tocantins  Dezembro     85  01/01/2013\n",
       "6451  2014  Tocantins  Dezembro    223  01/01/2014\n",
       "6452  2015  Tocantins  Dezembro    373  01/01/2015\n",
       "6453  2016  Tocantins  Dezembro    119  01/01/2016\n",
       "\n",
       "[6454 rows x 5 columns]"
      ]
     },
     "execution_count": 20,
     "metadata": {},
     "output_type": "execute_result"
    }
   ],
   "source": [
    "# Abrindo o csv com parâmtros para o separador, que não é \",\" usando a engine do python para Parsear o doc,\n",
    "# e forçando o tipo das colunas como str para remover o \".\" dos milhares sem que os dados se percam.\n",
    "\n",
    "dados_originais = pd.read_csv('Data/rf_incendiosflorestais_focoscalor_estados_1998-2017.csv', encoding='latin-1', sep=r'\\t', engine='python', dtype=str)\n",
    "dados_originais = dados_originais.replace('\\\"', '', regex=True)\n",
    "dados_originais"
   ]
  },
  {
   "cell_type": "code",
   "execution_count": 21,
   "metadata": {},
   "outputs": [
    {
     "data": {
      "text/plain": [
       "\"Ano        object\n",
       "Estado      object\n",
       "Mês         object\n",
       "Número      object\n",
       "Período\"    object\n",
       "dtype: object"
      ]
     },
     "execution_count": 21,
     "metadata": {},
     "output_type": "execute_result"
    }
   ],
   "source": [
    "dados_originais.dtypes"
   ]
  },
  {
   "attachments": {},
   "cell_type": "markdown",
   "metadata": {},
   "source": [
    "# <b style='color:green'>**♻**</b> **Realizando novamente a limpeza**"
   ]
  },
  {
   "attachments": {},
   "cell_type": "markdown",
   "metadata": {},
   "source": [
    "Agora que temos o dataset original de sua fonte primária, percebemos que ele tem uma formatação muito mais concisa.\n",
    "\n",
    "Não é necessário trocar os nomes dos estados, pois estão todos corretos. Além disso, temos as 27 unidades da federação\n",
    "\n",
    "brasileira, onde antes só tínhamos 23."
   ]
  },
  {
   "cell_type": "code",
   "execution_count": 22,
   "metadata": {},
   "outputs": [
    {
     "name": "stdout",
     "output_type": "stream",
     "text": [
      "27\n"
     ]
    },
    {
     "data": {
      "text/plain": [
       "array(['Acre', 'Alagoas', 'Amapá', 'Amazonas', 'Bahia', 'Ceará',\n",
       "       'Distrito Federal', 'Espírito Santo', 'Goiás', 'Maranhão',\n",
       "       'Mato Grosso', 'Mato Grosso do Sul', 'Minas Gerais', 'Pará',\n",
       "       'Paraíba', 'Paraná', 'Pernambuco', 'Piauí', 'Rio de Janeiro',\n",
       "       'Rio Grande do Norte', 'Rio Grande do Sul', 'Rondônia', 'Roraima',\n",
       "       'Santa Catarina', 'São Paulo', 'Sergipe', 'Tocantins'],\n",
       "      dtype=object)"
      ]
     },
     "execution_count": 22,
     "metadata": {},
     "output_type": "execute_result"
    }
   ],
   "source": [
    "print(len(dados_originais.Estado.unique()))\n",
    "\n",
    "dados_originais.Estado.unique()"
   ]
  },
  {
   "cell_type": "code",
   "execution_count": 23,
   "metadata": {},
   "outputs": [
    {
     "data": {
      "text/html": [
       "<div>\n",
       "<style scoped>\n",
       "    .dataframe tbody tr th:only-of-type {\n",
       "        vertical-align: middle;\n",
       "    }\n",
       "\n",
       "    .dataframe tbody tr th {\n",
       "        vertical-align: top;\n",
       "    }\n",
       "\n",
       "    .dataframe thead th {\n",
       "        text-align: right;\n",
       "    }\n",
       "</style>\n",
       "<table border=\"1\" class=\"dataframe\">\n",
       "  <thead>\n",
       "    <tr style=\"text-align: right;\">\n",
       "      <th></th>\n",
       "      <th>\"Ano</th>\n",
       "      <th>Estado</th>\n",
       "      <th>Mês</th>\n",
       "      <th>Número</th>\n",
       "      <th>Período\"</th>\n",
       "    </tr>\n",
       "  </thead>\n",
       "  <tbody>\n",
       "    <tr>\n",
       "      <th>0</th>\n",
       "      <td>1998</td>\n",
       "      <td>Acre</td>\n",
       "      <td>Janeiro</td>\n",
       "      <td>0</td>\n",
       "      <td>01/01/1998</td>\n",
       "    </tr>\n",
       "    <tr>\n",
       "      <th>1</th>\n",
       "      <td>1999</td>\n",
       "      <td>Acre</td>\n",
       "      <td>Janeiro</td>\n",
       "      <td>0</td>\n",
       "      <td>01/01/1999</td>\n",
       "    </tr>\n",
       "    <tr>\n",
       "      <th>2</th>\n",
       "      <td>2000</td>\n",
       "      <td>Acre</td>\n",
       "      <td>Janeiro</td>\n",
       "      <td>0</td>\n",
       "      <td>01/01/2000</td>\n",
       "    </tr>\n",
       "    <tr>\n",
       "      <th>3</th>\n",
       "      <td>2001</td>\n",
       "      <td>Acre</td>\n",
       "      <td>Janeiro</td>\n",
       "      <td>0</td>\n",
       "      <td>01/01/2001</td>\n",
       "    </tr>\n",
       "    <tr>\n",
       "      <th>4</th>\n",
       "      <td>2002</td>\n",
       "      <td>Acre</td>\n",
       "      <td>Janeiro</td>\n",
       "      <td>0</td>\n",
       "      <td>01/01/2002</td>\n",
       "    </tr>\n",
       "  </tbody>\n",
       "</table>\n",
       "</div>"
      ],
      "text/plain": [
       "   \"Ano Estado      Mês Número    Período\"\n",
       "0  1998   Acre  Janeiro      0  01/01/1998\n",
       "1  1999   Acre  Janeiro      0  01/01/1999\n",
       "2  2000   Acre  Janeiro      0  01/01/2000\n",
       "3  2001   Acre  Janeiro      0  01/01/2001\n",
       "4  2002   Acre  Janeiro      0  01/01/2002"
      ]
     },
     "execution_count": 23,
     "metadata": {},
     "output_type": "execute_result"
    }
   ],
   "source": [
    "dados_originais.head()"
   ]
  },
  {
   "attachments": {},
   "cell_type": "markdown",
   "metadata": {},
   "source": [
    "Mesmo nos dados originais, o Período continua sempre tendo como mês '01', então novamente iremos remover a coluna:"
   ]
  },
  {
   "cell_type": "code",
   "execution_count": 24,
   "metadata": {},
   "outputs": [],
   "source": [
    "dados_originais = dados_originais.drop('Período\"', axis=1)"
   ]
  },
  {
   "attachments": {},
   "cell_type": "markdown",
   "metadata": {},
   "source": [
    "Agora, substituo o nome das colunas que serão utilizadas, a fim de remover as acentuações que podem atrapalhar as buscas:"
   ]
  },
  {
   "cell_type": "code",
   "execution_count": 25,
   "metadata": {},
   "outputs": [
    {
     "data": {
      "text/html": [
       "<div>\n",
       "<style scoped>\n",
       "    .dataframe tbody tr th:only-of-type {\n",
       "        vertical-align: middle;\n",
       "    }\n",
       "\n",
       "    .dataframe tbody tr th {\n",
       "        vertical-align: top;\n",
       "    }\n",
       "\n",
       "    .dataframe thead th {\n",
       "        text-align: right;\n",
       "    }\n",
       "</style>\n",
       "<table border=\"1\" class=\"dataframe\">\n",
       "  <thead>\n",
       "    <tr style=\"text-align: right;\">\n",
       "      <th></th>\n",
       "      <th>Ano</th>\n",
       "      <th>Estado</th>\n",
       "      <th>Mes</th>\n",
       "      <th>Numero</th>\n",
       "    </tr>\n",
       "  </thead>\n",
       "  <tbody>\n",
       "    <tr>\n",
       "      <th>0</th>\n",
       "      <td>1998</td>\n",
       "      <td>Acre</td>\n",
       "      <td>Janeiro</td>\n",
       "      <td>0</td>\n",
       "    </tr>\n",
       "    <tr>\n",
       "      <th>1</th>\n",
       "      <td>1999</td>\n",
       "      <td>Acre</td>\n",
       "      <td>Janeiro</td>\n",
       "      <td>0</td>\n",
       "    </tr>\n",
       "    <tr>\n",
       "      <th>2</th>\n",
       "      <td>2000</td>\n",
       "      <td>Acre</td>\n",
       "      <td>Janeiro</td>\n",
       "      <td>0</td>\n",
       "    </tr>\n",
       "    <tr>\n",
       "      <th>3</th>\n",
       "      <td>2001</td>\n",
       "      <td>Acre</td>\n",
       "      <td>Janeiro</td>\n",
       "      <td>0</td>\n",
       "    </tr>\n",
       "    <tr>\n",
       "      <th>4</th>\n",
       "      <td>2002</td>\n",
       "      <td>Acre</td>\n",
       "      <td>Janeiro</td>\n",
       "      <td>0</td>\n",
       "    </tr>\n",
       "  </tbody>\n",
       "</table>\n",
       "</div>"
      ],
      "text/plain": [
       "    Ano Estado      Mes Numero\n",
       "0  1998   Acre  Janeiro      0\n",
       "1  1999   Acre  Janeiro      0\n",
       "2  2000   Acre  Janeiro      0\n",
       "3  2001   Acre  Janeiro      0\n",
       "4  2002   Acre  Janeiro      0"
      ]
     },
     "execution_count": 25,
     "metadata": {},
     "output_type": "execute_result"
    }
   ],
   "source": [
    "novas_colunas = {'\"Ano':'Ano','Mês':'Mes', 'Número':'Numero'}\n",
    "\n",
    "dados_originais = dados_originais.rename(columns=novas_colunas)\n",
    "dados_originais.head()"
   ]
  },
  {
   "attachments": {},
   "cell_type": "markdown",
   "metadata": {},
   "source": [
    "Agora, nossa tarefa é REMOVER o . dos milhares da coluna de Números para transformá-la em int,\n",
    "\n",
    "pois se a definirmos como numérica neste momento, ela erroneamente transformará em floats."
   ]
  },
  {
   "cell_type": "code",
   "execution_count": 26,
   "metadata": {},
   "outputs": [],
   "source": [
    "dados_originais['Numero'] = dados_originais.Numero.apply(lambda x: x.replace('.', ''))"
   ]
  },
  {
   "cell_type": "code",
   "execution_count": 27,
   "metadata": {},
   "outputs": [],
   "source": [
    "dados_originais.Numero = pd.to_numeric(dados_originais.Numero)"
   ]
  },
  {
   "attachments": {},
   "cell_type": "markdown",
   "metadata": {},
   "source": [
    "O mesmo para o Ano:"
   ]
  },
  {
   "cell_type": "code",
   "execution_count": 28,
   "metadata": {},
   "outputs": [],
   "source": [
    "dados_originais.Ano = pd.to_numeric(dados_originais.Ano)"
   ]
  },
  {
   "cell_type": "code",
   "execution_count": 29,
   "metadata": {},
   "outputs": [
    {
     "data": {
      "text/plain": [
       "Ano        int64\n",
       "Estado    object\n",
       "Mes       object\n",
       "Numero     int64\n",
       "dtype: object"
      ]
     },
     "execution_count": 29,
     "metadata": {},
     "output_type": "execute_result"
    }
   ],
   "source": [
    "# Agora temos o DF com os tipos de dados corretos, limpo e com todos os nomes corretos\n",
    "\n",
    "dados_originais.dtypes"
   ]
  },
  {
   "attachments": {},
   "cell_type": "markdown",
   "metadata": {},
   "source": [
    "Por último, verificando os valores vemos que quase todos os estados tem 239 registros, menos Alagoas:"
   ]
  },
  {
   "cell_type": "code",
   "execution_count": 30,
   "metadata": {},
   "outputs": [
    {
     "data": {
      "text/plain": [
       "Alagoas                240\n",
       "Acre                   239\n",
       "Paraíba                239\n",
       "Sergipe                239\n",
       "São Paulo              239\n",
       "Santa Catarina         239\n",
       "Roraima                239\n",
       "Rondônia               239\n",
       "Rio Grande do Sul      239\n",
       "Rio Grande do Norte    239\n",
       "Rio de Janeiro         239\n",
       "Piauí                  239\n",
       "Pernambuco             239\n",
       "Paraná                 239\n",
       "Pará                   239\n",
       "Minas Gerais           239\n",
       "Mato Grosso do Sul     239\n",
       "Mato Grosso            239\n",
       "Maranhão               239\n",
       "Goiás                  239\n",
       "Espírito Santo         239\n",
       "Distrito Federal       239\n",
       "Ceará                  239\n",
       "Bahia                  239\n",
       "Amazonas               239\n",
       "Amapá                  239\n",
       "Tocantins              239\n",
       "Name: Estado, dtype: int64"
      ]
     },
     "execution_count": 30,
     "metadata": {},
     "output_type": "execute_result"
    }
   ],
   "source": [
    "dados_originais.Estado.value_counts()"
   ]
  },
  {
   "attachments": {},
   "cell_type": "markdown",
   "metadata": {},
   "source": [
    "Verificando os valores duplicados, encontramos um registro repetido no estado:"
   ]
  },
  {
   "cell_type": "code",
   "execution_count": 31,
   "metadata": {},
   "outputs": [
    {
     "data": {
      "text/html": [
       "<div>\n",
       "<style scoped>\n",
       "    .dataframe tbody tr th:only-of-type {\n",
       "        vertical-align: middle;\n",
       "    }\n",
       "\n",
       "    .dataframe tbody tr th {\n",
       "        vertical-align: top;\n",
       "    }\n",
       "\n",
       "    .dataframe thead th {\n",
       "        text-align: right;\n",
       "    }\n",
       "</style>\n",
       "<table border=\"1\" class=\"dataframe\">\n",
       "  <thead>\n",
       "    <tr style=\"text-align: right;\">\n",
       "      <th></th>\n",
       "      <th>Ano</th>\n",
       "      <th>Estado</th>\n",
       "      <th>Mes</th>\n",
       "      <th>Numero</th>\n",
       "    </tr>\n",
       "  </thead>\n",
       "  <tbody>\n",
       "    <tr>\n",
       "      <th>258</th>\n",
       "      <td>2017</td>\n",
       "      <td>Alagoas</td>\n",
       "      <td>Janeiro</td>\n",
       "      <td>38</td>\n",
       "    </tr>\n",
       "    <tr>\n",
       "      <th>259</th>\n",
       "      <td>2017</td>\n",
       "      <td>Alagoas</td>\n",
       "      <td>Janeiro</td>\n",
       "      <td>38</td>\n",
       "    </tr>\n",
       "  </tbody>\n",
       "</table>\n",
       "</div>"
      ],
      "text/plain": [
       "      Ano   Estado      Mes  Numero\n",
       "258  2017  Alagoas  Janeiro      38\n",
       "259  2017  Alagoas  Janeiro      38"
      ]
     },
     "execution_count": 31,
     "metadata": {},
     "output_type": "execute_result"
    }
   ],
   "source": [
    "dados_originais[dados_originais.duplicated(keep=False)]"
   ]
  },
  {
   "cell_type": "code",
   "execution_count": 32,
   "metadata": {},
   "outputs": [],
   "source": [
    "dados_originais = dados_originais.drop_duplicates()"
   ]
  },
  {
   "cell_type": "code",
   "execution_count": 33,
   "metadata": {},
   "outputs": [
    {
     "data": {
      "text/plain": [
       "239    27\n",
       "Name: Estado, dtype: int64"
      ]
     },
     "execution_count": 33,
     "metadata": {},
     "output_type": "execute_result"
    }
   ],
   "source": [
    "#Podemos verificar que todos os estados (27) possuem 239 registros:\n",
    "\n",
    "dados_originais.Estado.value_counts().value_counts()"
   ]
  },
  {
   "attachments": {},
   "cell_type": "markdown",
   "metadata": {},
   "source": [
    "Dessa forma, aqui termina a limpeza dos dados."
   ]
  },
  {
   "cell_type": "markdown",
   "metadata": {},
   "source": [
    "## 📅 Criando colunas de trimestres e meses inteiros"
   ]
  },
  {
   "attachments": {},
   "cell_type": "markdown",
   "metadata": {},
   "source": [
    "Conforme dito acima, a coluna Período não continha informações relevantes, já que somente representava o ano. \n",
    "\n",
    "Porém ainda precisamos dos valores numéricos para ordenar os meses. Além disso, também dividirei em trimestres\n",
    "\n",
    "os meses, para gerar gráficos no Power BI."
   ]
  },
  {
   "cell_type": "code",
   "execution_count": 34,
   "metadata": {},
   "outputs": [],
   "source": [
    "dicionario_meses = {'Janeiro':1, 'Fevereiro':2,\n",
    "                      'Março':3, 'Abril':4,\n",
    "                      'Maio':5, 'Junho':6,\n",
    "                      'Julho':7, 'Agosto':8,\n",
    "                      'Setembro':9, 'Outubro':10,\n",
    "                      'Novembro':11, 'Dezembro':12}\n",
    "\n",
    "def nomeMes_Numeral(mes):\n",
    "  # Transforma o nome do mês em seu correspondente numérico.\n",
    "  \n",
    "\n",
    "  return dicionario_meses.get(mes)"
   ]
  },
  {
   "cell_type": "code",
   "execution_count": 35,
   "metadata": {},
   "outputs": [],
   "source": [
    "def mes_Trimestre(mesNum):\n",
    "  # Classifica o trimestre de acordo com mês.\n",
    "  \n",
    "  # Essa classificação poderia ser feita através de uma função no PBI\n",
    "  # mas optei por enviar o conjunto de dados totalmente funcional.\n",
    "\n",
    "  return 'Q1' if 12/mesNum >= 4 else 'Q2' if 12/mesNum >= 2 else 'Q3' if 12/mesNum >=1.33 else 'Q4'"
   ]
  },
  {
   "cell_type": "code",
   "execution_count": 36,
   "metadata": {},
   "outputs": [],
   "source": [
    "dicionario_regiao = {'Acre':'N', 'Amapá':'N', 'Amazonas':'N', 'Pará':'N', 'Rondônia':'N', 'Roraima':'N', 'Tocantins':'N',\n",
    "                    'Alagoas':'NE', 'Bahia':'NE', 'Ceará':'NE', 'Maranhão':'NE', 'Paraíba':'NE', 'Pernambuco':'NE', 'Piauí':'NE', \n",
    "                    'Rio Grande do Norte':'NE', 'Sergipe':'NE', 'Espírito Santo':'SE', 'Minas Gerais':'SE', 'Rio de Janeiro':'SE',\n",
    "                    'São Paulo':'SE','Goiás':'CO', 'Mato Grosso':'CO', 'Mato Grosso do Sul':'CO','Distrito Federal':'CO', \n",
    "                    'Paraná':'S', 'Santa Catarina':'S', 'Rio Grande do Sul':'S'}\n",
    "\n",
    "dados_originais['Regiao'] = dados_originais.Estado.apply(lambda x: dicionario_regiao.get(x))"
   ]
  },
  {
   "cell_type": "code",
   "execution_count": 37,
   "metadata": {},
   "outputs": [],
   "source": [
    "dados_originais['Mes_int'] = dados_originais.Mes.apply(lambda x: nomeMes_Numeral(x))"
   ]
  },
  {
   "cell_type": "code",
   "execution_count": 38,
   "metadata": {},
   "outputs": [],
   "source": [
    "dados_originais['Trimestre'] = dados_originais.Mes_int.apply(lambda x: mes_Trimestre(x))"
   ]
  },
  {
   "cell_type": "code",
   "execution_count": 39,
   "metadata": {},
   "outputs": [
    {
     "data": {
      "text/html": [
       "<div>\n",
       "<style scoped>\n",
       "    .dataframe tbody tr th:only-of-type {\n",
       "        vertical-align: middle;\n",
       "    }\n",
       "\n",
       "    .dataframe tbody tr th {\n",
       "        vertical-align: top;\n",
       "    }\n",
       "\n",
       "    .dataframe thead th {\n",
       "        text-align: right;\n",
       "    }\n",
       "</style>\n",
       "<table border=\"1\" class=\"dataframe\">\n",
       "  <thead>\n",
       "    <tr style=\"text-align: right;\">\n",
       "      <th></th>\n",
       "      <th>Ano</th>\n",
       "      <th>Estado</th>\n",
       "      <th>Mes</th>\n",
       "      <th>Numero</th>\n",
       "      <th>Regiao</th>\n",
       "      <th>Mes_int</th>\n",
       "      <th>Trimestre</th>\n",
       "    </tr>\n",
       "  </thead>\n",
       "  <tbody>\n",
       "    <tr>\n",
       "      <th>0</th>\n",
       "      <td>1998</td>\n",
       "      <td>Acre</td>\n",
       "      <td>Janeiro</td>\n",
       "      <td>0</td>\n",
       "      <td>N</td>\n",
       "      <td>1</td>\n",
       "      <td>Q1</td>\n",
       "    </tr>\n",
       "    <tr>\n",
       "      <th>1</th>\n",
       "      <td>1999</td>\n",
       "      <td>Acre</td>\n",
       "      <td>Janeiro</td>\n",
       "      <td>0</td>\n",
       "      <td>N</td>\n",
       "      <td>1</td>\n",
       "      <td>Q1</td>\n",
       "    </tr>\n",
       "    <tr>\n",
       "      <th>2</th>\n",
       "      <td>2000</td>\n",
       "      <td>Acre</td>\n",
       "      <td>Janeiro</td>\n",
       "      <td>0</td>\n",
       "      <td>N</td>\n",
       "      <td>1</td>\n",
       "      <td>Q1</td>\n",
       "    </tr>\n",
       "    <tr>\n",
       "      <th>3</th>\n",
       "      <td>2001</td>\n",
       "      <td>Acre</td>\n",
       "      <td>Janeiro</td>\n",
       "      <td>0</td>\n",
       "      <td>N</td>\n",
       "      <td>1</td>\n",
       "      <td>Q1</td>\n",
       "    </tr>\n",
       "    <tr>\n",
       "      <th>4</th>\n",
       "      <td>2002</td>\n",
       "      <td>Acre</td>\n",
       "      <td>Janeiro</td>\n",
       "      <td>0</td>\n",
       "      <td>N</td>\n",
       "      <td>1</td>\n",
       "      <td>Q1</td>\n",
       "    </tr>\n",
       "    <tr>\n",
       "      <th>...</th>\n",
       "      <td>...</td>\n",
       "      <td>...</td>\n",
       "      <td>...</td>\n",
       "      <td>...</td>\n",
       "      <td>...</td>\n",
       "      <td>...</td>\n",
       "      <td>...</td>\n",
       "    </tr>\n",
       "    <tr>\n",
       "      <th>6449</th>\n",
       "      <td>2012</td>\n",
       "      <td>Tocantins</td>\n",
       "      <td>Dezembro</td>\n",
       "      <td>128</td>\n",
       "      <td>N</td>\n",
       "      <td>12</td>\n",
       "      <td>Q4</td>\n",
       "    </tr>\n",
       "    <tr>\n",
       "      <th>6450</th>\n",
       "      <td>2013</td>\n",
       "      <td>Tocantins</td>\n",
       "      <td>Dezembro</td>\n",
       "      <td>85</td>\n",
       "      <td>N</td>\n",
       "      <td>12</td>\n",
       "      <td>Q4</td>\n",
       "    </tr>\n",
       "    <tr>\n",
       "      <th>6451</th>\n",
       "      <td>2014</td>\n",
       "      <td>Tocantins</td>\n",
       "      <td>Dezembro</td>\n",
       "      <td>223</td>\n",
       "      <td>N</td>\n",
       "      <td>12</td>\n",
       "      <td>Q4</td>\n",
       "    </tr>\n",
       "    <tr>\n",
       "      <th>6452</th>\n",
       "      <td>2015</td>\n",
       "      <td>Tocantins</td>\n",
       "      <td>Dezembro</td>\n",
       "      <td>373</td>\n",
       "      <td>N</td>\n",
       "      <td>12</td>\n",
       "      <td>Q4</td>\n",
       "    </tr>\n",
       "    <tr>\n",
       "      <th>6453</th>\n",
       "      <td>2016</td>\n",
       "      <td>Tocantins</td>\n",
       "      <td>Dezembro</td>\n",
       "      <td>119</td>\n",
       "      <td>N</td>\n",
       "      <td>12</td>\n",
       "      <td>Q4</td>\n",
       "    </tr>\n",
       "  </tbody>\n",
       "</table>\n",
       "<p>6453 rows × 7 columns</p>\n",
       "</div>"
      ],
      "text/plain": [
       "       Ano     Estado       Mes  Numero Regiao  Mes_int Trimestre\n",
       "0     1998       Acre   Janeiro       0      N        1        Q1\n",
       "1     1999       Acre   Janeiro       0      N        1        Q1\n",
       "2     2000       Acre   Janeiro       0      N        1        Q1\n",
       "3     2001       Acre   Janeiro       0      N        1        Q1\n",
       "4     2002       Acre   Janeiro       0      N        1        Q1\n",
       "...    ...        ...       ...     ...    ...      ...       ...\n",
       "6449  2012  Tocantins  Dezembro     128      N       12        Q4\n",
       "6450  2013  Tocantins  Dezembro      85      N       12        Q4\n",
       "6451  2014  Tocantins  Dezembro     223      N       12        Q4\n",
       "6452  2015  Tocantins  Dezembro     373      N       12        Q4\n",
       "6453  2016  Tocantins  Dezembro     119      N       12        Q4\n",
       "\n",
       "[6453 rows x 7 columns]"
      ]
     },
     "execution_count": 39,
     "metadata": {},
     "output_type": "execute_result"
    }
   ],
   "source": [
    "dados_originais"
   ]
  },
  {
   "attachments": {},
   "cell_type": "markdown",
   "metadata": {},
   "source": [
    "# **🔍 Visualizando os dados limpos**"
   ]
  },
  {
   "attachments": {},
   "cell_type": "markdown",
   "metadata": {},
   "source": [
    "Agora, com o conjunto de dados original, completo e limpo, vamos realizar algumas visualizações e descrições dos dados,\n",
    "\n",
    "a começar com o método **DESCRIBE**, para observar algumas das características das colunas numéricas:"
   ]
  },
  {
   "cell_type": "code",
   "execution_count": 40,
   "metadata": {},
   "outputs": [
    {
     "data": {
      "text/html": [
       "<div>\n",
       "<style scoped>\n",
       "    .dataframe tbody tr th:only-of-type {\n",
       "        vertical-align: middle;\n",
       "    }\n",
       "\n",
       "    .dataframe tbody tr th {\n",
       "        vertical-align: top;\n",
       "    }\n",
       "\n",
       "    .dataframe thead th {\n",
       "        text-align: right;\n",
       "    }\n",
       "</style>\n",
       "<table border=\"1\" class=\"dataframe\">\n",
       "  <thead>\n",
       "    <tr style=\"text-align: right;\">\n",
       "      <th></th>\n",
       "      <th>Ano</th>\n",
       "      <th>Numero</th>\n",
       "      <th>Mes_int</th>\n",
       "    </tr>\n",
       "  </thead>\n",
       "  <tbody>\n",
       "    <tr>\n",
       "      <th>count</th>\n",
       "      <td>6453.000000</td>\n",
       "      <td>6453.000000</td>\n",
       "      <td>6453.000000</td>\n",
       "    </tr>\n",
       "    <tr>\n",
       "      <th>mean</th>\n",
       "      <td>2007.460251</td>\n",
       "      <td>567.641717</td>\n",
       "      <td>6.476987</td>\n",
       "    </tr>\n",
       "    <tr>\n",
       "      <th>std</th>\n",
       "      <td>5.745872</td>\n",
       "      <td>1648.487298</td>\n",
       "      <td>3.441114</td>\n",
       "    </tr>\n",
       "    <tr>\n",
       "      <th>min</th>\n",
       "      <td>1998.000000</td>\n",
       "      <td>0.000000</td>\n",
       "      <td>1.000000</td>\n",
       "    </tr>\n",
       "    <tr>\n",
       "      <th>25%</th>\n",
       "      <td>2002.000000</td>\n",
       "      <td>9.000000</td>\n",
       "      <td>3.000000</td>\n",
       "    </tr>\n",
       "    <tr>\n",
       "      <th>50%</th>\n",
       "      <td>2007.000000</td>\n",
       "      <td>55.000000</td>\n",
       "      <td>6.000000</td>\n",
       "    </tr>\n",
       "    <tr>\n",
       "      <th>75%</th>\n",
       "      <td>2012.000000</td>\n",
       "      <td>284.000000</td>\n",
       "      <td>9.000000</td>\n",
       "    </tr>\n",
       "    <tr>\n",
       "      <th>max</th>\n",
       "      <td>2017.000000</td>\n",
       "      <td>25963.000000</td>\n",
       "      <td>12.000000</td>\n",
       "    </tr>\n",
       "  </tbody>\n",
       "</table>\n",
       "</div>"
      ],
      "text/plain": [
       "               Ano        Numero      Mes_int\n",
       "count  6453.000000   6453.000000  6453.000000\n",
       "mean   2007.460251    567.641717     6.476987\n",
       "std       5.745872   1648.487298     3.441114\n",
       "min    1998.000000      0.000000     1.000000\n",
       "25%    2002.000000      9.000000     3.000000\n",
       "50%    2007.000000     55.000000     6.000000\n",
       "75%    2012.000000    284.000000     9.000000\n",
       "max    2017.000000  25963.000000    12.000000"
      ]
     },
     "execution_count": 40,
     "metadata": {},
     "output_type": "execute_result"
    }
   ],
   "source": [
    "dados_originais.describe()"
   ]
  },
  {
   "attachments": {},
   "cell_type": "markdown",
   "metadata": {},
   "source": [
    "A partir do describe, podemos ter uma visão das características gerais do DF:\n",
    "\n",
    "1. Count - **Contagem de registros** (linhas) na coluna;\n",
    "\n",
    "2. Mean - **Média da coluna**;\n",
    "\n",
    "3. Std - **Desvio padrão da coluna** (podemos observar por exemplo que no **YEAR** o STD é baixo,\n",
    "\n",
    "    pois os dados se concentram num período de apenas 19 anos de diferença, enquanto no NUMERO\n",
    "    \n",
    "    temos um STD muito mais alto, pois os dados variam entre 0 e 25963 na coluna;\n",
    "\n",
    "4. Min - **Valor mínimo** encontrado na coluna, menor registro;\n",
    "\n",
    "5. 25% - **Primeiro Quartil** ou **Q1** (25% dos valores se encontram abaixo daqui);\n",
    "\n",
    "6. 50% - **Segundo Quartil** ou **Q2** (50% dos valores estão abaixo daqui);\n",
    "\n",
    "7. 75% - **Terceiro Quartil** ou **Q3** (75% dos valores estão abaixo daqui);\n",
    "\n",
    "8. Max - **Valor máximo** encontrado na coluna, maior registro."
   ]
  },
  {
   "cell_type": "code",
   "execution_count": 41,
   "metadata": {},
   "outputs": [
    {
     "data": {
      "text/plain": [
       "Ano        2009.0\n",
       "Numero       99.0\n",
       "Mes_int       8.0\n",
       "Name: 0.6, dtype: float64"
      ]
     },
     "execution_count": 41,
     "metadata": {},
     "output_type": "execute_result"
    }
   ],
   "source": [
    "# Além dos quartis padrão vistos acima, podemos obter os dados que se encontram antes de uma porcentagem X%,\n",
    "# utilizando o método QUANTILE, e dentro dele passando a porcentagem que desejamos como argumento: nesse caso, 60%\n",
    "\n",
    "dados_originais.quantile(0.60)"
   ]
  },
  {
   "attachments": {},
   "cell_type": "markdown",
   "metadata": {},
   "source": [
    "Também podemos gerar gráficos que nos ajudam na visualização da distribuição dos dados, como o **BOXPLOT**.\n",
    "\n",
    "Nesse caso, podemos ver os três quartis citados acima na **BARRA** do gráfico, sendo sua parte inferior o Q1,\n",
    "\n",
    "a linha verde o Q2 e sua parte superior o Q3. Além disso, percebemos também uma linha que segue até um valor\n",
    "\n",
    "que se aproxima de 700. Esses dados são considerados \"normais\" dentro da distribuição. Os pontos pretos são os **OUTLIERS**,\n",
    "\n",
    "dados que não estão dentro da distribuição esperada da maioria dos dados. Porém, isso não quer dizer que devemos sempre\n",
    "\n",
    "eliminar estes dados, ou que eles são um problema. Nesse caso, eles não afetarão nossas análises estatísticas nem os gráficos,\n",
    "\n",
    "e por se tratarem de uma representação da realidade, serão mantidos no nosso conjunto de dados."
   ]
  },
  {
   "cell_type": "code",
   "execution_count": 42,
   "metadata": {},
   "outputs": [
    {
     "data": {
      "image/png": "[encoded data removed]",
      "text/plain": [
       "<Figure size 1000x1000 with 2 Axes>"
      ]
     },
     "metadata": {},
     "output_type": "display_data"
    }
   ],
   "source": [
    "# Nestes dados os outliers (bolinhas pretas) vão até próximas do valor de 700 começam próximas ao valor de 700.\n",
    "# Para melhor visualização, limito os valores até 750 no gráfico da direita\n",
    "\n",
    "fig, ax = plt.subplots(1, 2, figsize=(10,10))\n",
    "\n",
    "\n",
    "dados_originais.Numero.plot(kind='box', ylim=(0), ax=ax[0], title='Outlier sem Ylim')\n",
    "\n",
    "\n",
    "dados_originais.Numero.plot(kind='box',  ylim=(0,750),title='Outlier com Ylim', yticks=[i for i in range(0,751,50)])\n",
    "\n",
    "plt.axhline(y=dados_originais.Numero.median(), color='green', label='Mediana')\n",
    "plt.axhline(y=dados_originais.Numero.mean(), color='blue', label='Media')\n",
    "plt.axhline(y=dados_originais.Numero.mode()[0], color='red', label='Moda', marker='o')\n",
    "\n",
    "plt.legend()\n",
    "\n",
    "plt.show()"
   ]
  },
  {
   "attachments": {},
   "cell_type": "markdown",
   "metadata": {},
   "source": [
    "Outro método para verificarmos essa distribuição é o **DISTPLOT**, da biblioteca **SEABORN**:\n",
    "\n",
    "Notamos que ela não é uma Distribuição Padrão (Gaussiana/Bell Shaped), e sim uma distribuição\n",
    "\n",
    "<b style=\"color:#1c87d9\">**RIGHT SKEWED**</b>, com seus dados se concentrando na parte esquerda.\n",
    "\n",
    "Isso se confirma quando observamos os valores da Moda, que vem primeiro (0), seguido da mediana (55) e em seguida, a Média (567.64)"
   ]
  },
  {
   "cell_type": "code",
   "execution_count": 43,
   "metadata": {},
   "outputs": [
    {
     "name": "stdout",
     "output_type": "stream",
     "text": [
      "Moda: 0;\n",
      "Mediana: 55.0;\n",
      "Média: 567.6417170308383\n"
     ]
    },
    {
     "data": {
      "image/png": "[encoded data removed]",
      "text/plain": [
       "<Figure size 500x500 with 1 Axes>"
      ]
     },
     "metadata": {},
     "output_type": "display_data"
    }
   ],
   "source": [
    "sns.displot(dados_originais, x='Numero', binwidth=25)\n",
    "plt.xlim(0,1000)\n",
    "plt.ylabel('Contagem')\n",
    "plt.xlabel('Incêndios')\n",
    "plt.title('Distribuição do número de incêndios')\n",
    "\n",
    "plt.plot()\n",
    "\n",
    "print(f'Moda: {dados_originais.Numero.mode()[0]};\\nMediana: {dados_originais.Numero.median()};\\nMédia: {dados_originais.Numero.mean()}')\n"
   ]
  },
  {
   "attachments": {},
   "cell_type": "markdown",
   "metadata": {},
   "source": [
    "____________"
   ]
  },
  {
   "attachments": {},
   "cell_type": "markdown",
   "metadata": {},
   "source": [
    "# 📊 Plots"
   ]
  },
  {
   "attachments": {},
   "cell_type": "markdown",
   "metadata": {},
   "source": [
    "Após realizar a limpeza e visualização da distribuição dos nossos dados, partimos para o plot\n",
    "\n",
    "de gráficos que nos forneçam mais informações sobre as ocorrências dos incêndios."
   ]
  },
  {
   "attachments": {},
   "cell_type": "markdown",
   "metadata": {},
   "source": [
    "## Verificando a Serie"
   ]
  },
  {
   "cell_type": "code",
   "execution_count": 44,
   "metadata": {},
   "outputs": [],
   "source": [
    "def colorindo_dados(entrada):\n",
    "  # Aqui é feito a classificação de cores para exibir no\n",
    "\n",
    "  color = 'crimson' if entrada > 100000 else 'GoldenRod' if entrada > 25000 else ''\n",
    "\n",
    "  return f'background: {color}'"
   ]
  },
  {
   "cell_type": "code",
   "execution_count": 45,
   "metadata": {},
   "outputs": [
    {
     "data": {
      "text/html": [
       "<style type=\"text/css\">\n",
       "#T_eec0b_row0_col0, #T_eec0b_row1_col0, #T_eec0b_row2_col0, #T_eec0b_row3_col0, #T_eec0b_row4_col0, #T_eec0b_row5_col0, #T_eec0b_row6_col0, #T_eec0b_row7_col0, #T_eec0b_row8_col0, #T_eec0b_row9_col0, #T_eec0b_row10_col0 {\n",
       "  background: crimson;\n",
       "}\n",
       "#T_eec0b_row11_col0, #T_eec0b_row12_col0, #T_eec0b_row13_col0, #T_eec0b_row14_col0, #T_eec0b_row15_col0, #T_eec0b_row16_col0, #T_eec0b_row17_col0, #T_eec0b_row18_col0 {\n",
       "  background: GoldenRod;\n",
       "}\n",
       "#T_eec0b_row19_col0, #T_eec0b_row20_col0, #T_eec0b_row21_col0, #T_eec0b_row22_col0, #T_eec0b_row23_col0, #T_eec0b_row24_col0, #T_eec0b_row25_col0, #T_eec0b_row26_col0 {\n",
       "  background: ;\n",
       "}\n",
       "</style>\n",
       "<table id=\"T_eec0b\">\n",
       "  <thead>\n",
       "    <tr>\n",
       "      <th class=\"blank level0\" >&nbsp;</th>\n",
       "      <th id=\"T_eec0b_level0_col0\" class=\"col_heading level0 col0\" >Numero</th>\n",
       "    </tr>\n",
       "    <tr>\n",
       "      <th class=\"index_name level0\" >Estado</th>\n",
       "      <th class=\"blank col0\" >&nbsp;</th>\n",
       "    </tr>\n",
       "  </thead>\n",
       "  <tbody>\n",
       "    <tr>\n",
       "      <th id=\"T_eec0b_level0_row0\" class=\"row_heading level0 row0\" >Mato Grosso</th>\n",
       "      <td id=\"T_eec0b_row0_col0\" class=\"data row0 col0\" >723629</td>\n",
       "    </tr>\n",
       "    <tr>\n",
       "      <th id=\"T_eec0b_level0_row1\" class=\"row_heading level0 row1\" >Pará</th>\n",
       "      <td id=\"T_eec0b_row1_col0\" class=\"data row1 col0\" >638042</td>\n",
       "    </tr>\n",
       "    <tr>\n",
       "      <th id=\"T_eec0b_level0_row2\" class=\"row_heading level0 row2\" >Maranhão</th>\n",
       "      <td id=\"T_eec0b_row2_col0\" class=\"data row2 col0\" >405879</td>\n",
       "    </tr>\n",
       "    <tr>\n",
       "      <th id=\"T_eec0b_level0_row3\" class=\"row_heading level0 row3\" >Tocantins</th>\n",
       "      <td id=\"T_eec0b_row3_col0\" class=\"data row3 col0\" >248378</td>\n",
       "    </tr>\n",
       "    <tr>\n",
       "      <th id=\"T_eec0b_level0_row4\" class=\"row_heading level0 row4\" >Bahia</th>\n",
       "      <td id=\"T_eec0b_row4_col0\" class=\"data row4 col0\" >239777</td>\n",
       "    </tr>\n",
       "    <tr>\n",
       "      <th id=\"T_eec0b_level0_row5\" class=\"row_heading level0 row5\" >Rondônia</th>\n",
       "      <td id=\"T_eec0b_row5_col0\" class=\"data row5 col0\" >224510</td>\n",
       "    </tr>\n",
       "    <tr>\n",
       "      <th id=\"T_eec0b_level0_row6\" class=\"row_heading level0 row6\" >Piauí</th>\n",
       "      <td id=\"T_eec0b_row6_col0\" class=\"data row6 col0\" >182406</td>\n",
       "    </tr>\n",
       "    <tr>\n",
       "      <th id=\"T_eec0b_level0_row7\" class=\"row_heading level0 row7\" >Minas Gerais</th>\n",
       "      <td id=\"T_eec0b_row7_col0\" class=\"data row7 col0\" >181589</td>\n",
       "    </tr>\n",
       "    <tr>\n",
       "      <th id=\"T_eec0b_level0_row8\" class=\"row_heading level0 row8\" >Mato Grosso do Sul</th>\n",
       "      <td id=\"T_eec0b_row8_col0\" class=\"data row8 col0\" >119897</td>\n",
       "    </tr>\n",
       "    <tr>\n",
       "      <th id=\"T_eec0b_level0_row9\" class=\"row_heading level0 row9\" >Amazonas</th>\n",
       "      <td id=\"T_eec0b_row9_col0\" class=\"data row9 col0\" >118691</td>\n",
       "    </tr>\n",
       "    <tr>\n",
       "      <th id=\"T_eec0b_level0_row10\" class=\"row_heading level0 row10\" >Goiás</th>\n",
       "      <td id=\"T_eec0b_row10_col0\" class=\"data row10 col0\" >115138</td>\n",
       "    </tr>\n",
       "    <tr>\n",
       "      <th id=\"T_eec0b_level0_row11\" class=\"row_heading level0 row11\" >Ceará</th>\n",
       "      <td id=\"T_eec0b_row11_col0\" class=\"data row11 col0\" >85436</td>\n",
       "    </tr>\n",
       "    <tr>\n",
       "      <th id=\"T_eec0b_level0_row12\" class=\"row_heading level0 row12\" >Acre</th>\n",
       "      <td id=\"T_eec0b_row12_col0\" class=\"data row12 col0\" >73439</td>\n",
       "    </tr>\n",
       "    <tr>\n",
       "      <th id=\"T_eec0b_level0_row13\" class=\"row_heading level0 row13\" >São Paulo</th>\n",
       "      <td id=\"T_eec0b_row13_col0\" class=\"data row13 col0\" >62308</td>\n",
       "    </tr>\n",
       "    <tr>\n",
       "      <th id=\"T_eec0b_level0_row14\" class=\"row_heading level0 row14\" >Paraná</th>\n",
       "      <td id=\"T_eec0b_row14_col0\" class=\"data row14 col0\" >54552</td>\n",
       "    </tr>\n",
       "    <tr>\n",
       "      <th id=\"T_eec0b_level0_row15\" class=\"row_heading level0 row15\" >Rio Grande do Sul</th>\n",
       "      <td id=\"T_eec0b_row15_col0\" class=\"data row15 col0\" >29891</td>\n",
       "    </tr>\n",
       "    <tr>\n",
       "      <th id=\"T_eec0b_level0_row16\" class=\"row_heading level0 row16\" >Roraima</th>\n",
       "      <td id=\"T_eec0b_row16_col0\" class=\"data row16 col0\" >29454</td>\n",
       "    </tr>\n",
       "    <tr>\n",
       "      <th id=\"T_eec0b_level0_row17\" class=\"row_heading level0 row17\" >Santa Catarina</th>\n",
       "      <td id=\"T_eec0b_row17_col0\" class=\"data row17 col0\" >27209</td>\n",
       "    </tr>\n",
       "    <tr>\n",
       "      <th id=\"T_eec0b_level0_row18\" class=\"row_heading level0 row18\" >Amapá</th>\n",
       "      <td id=\"T_eec0b_row18_col0\" class=\"data row18 col0\" >26403</td>\n",
       "    </tr>\n",
       "    <tr>\n",
       "      <th id=\"T_eec0b_level0_row19\" class=\"row_heading level0 row19\" >Pernambuco</th>\n",
       "      <td id=\"T_eec0b_row19_col0\" class=\"data row19 col0\" >24498</td>\n",
       "    </tr>\n",
       "    <tr>\n",
       "      <th id=\"T_eec0b_level0_row20\" class=\"row_heading level0 row20\" >Paraíba</th>\n",
       "      <td id=\"T_eec0b_row20_col0\" class=\"data row20 col0\" >12787</td>\n",
       "    </tr>\n",
       "    <tr>\n",
       "      <th id=\"T_eec0b_level0_row21\" class=\"row_heading level0 row21\" >Rio de Janeiro</th>\n",
       "      <td id=\"T_eec0b_row21_col0\" class=\"data row21 col0\" >11703</td>\n",
       "    </tr>\n",
       "    <tr>\n",
       "      <th id=\"T_eec0b_level0_row22\" class=\"row_heading level0 row22\" >Rio Grande do Norte</th>\n",
       "      <td id=\"T_eec0b_row22_col0\" class=\"data row22 col0\" >9426</td>\n",
       "    </tr>\n",
       "    <tr>\n",
       "      <th id=\"T_eec0b_level0_row23\" class=\"row_heading level0 row23\" >Espírito Santo</th>\n",
       "      <td id=\"T_eec0b_row23_col0\" class=\"data row23 col0\" >6546</td>\n",
       "    </tr>\n",
       "    <tr>\n",
       "      <th id=\"T_eec0b_level0_row24\" class=\"row_heading level0 row24\" >Alagoas</th>\n",
       "      <td id=\"T_eec0b_row24_col0\" class=\"data row24 col0\" >4606</td>\n",
       "    </tr>\n",
       "    <tr>\n",
       "      <th id=\"T_eec0b_level0_row25\" class=\"row_heading level0 row25\" >Distrito Federal</th>\n",
       "      <td id=\"T_eec0b_row25_col0\" class=\"data row25 col0\" >3561</td>\n",
       "    </tr>\n",
       "    <tr>\n",
       "      <th id=\"T_eec0b_level0_row26\" class=\"row_heading level0 row26\" >Sergipe</th>\n",
       "      <td id=\"T_eec0b_row26_col0\" class=\"data row26 col0\" >3237</td>\n",
       "    </tr>\n",
       "  </tbody>\n",
       "</table>\n"
      ],
      "text/plain": [
       "<pandas.io.formats.style.Styler at 0x1157af12ac0>"
      ]
     },
     "execution_count": 45,
     "metadata": {},
     "output_type": "execute_result"
    }
   ],
   "source": [
    "total_mais_recorrentes = dados_originais[['Estado', 'Numero']].groupby(by='Estado').sum().sort_values(by='Numero', ascending=False)\n",
    "total_mais_recorrentes.style.applymap(colorindo_dados)\n"
   ]
  },
  {
   "cell_type": "markdown",
   "metadata": {},
   "source": [
    "___"
   ]
  },
  {
   "attachments": {},
   "cell_type": "markdown",
   "metadata": {},
   "source": [
    "## Soma de incêndios por estado"
   ]
  },
  {
   "cell_type": "code",
   "execution_count": 46,
   "metadata": {},
   "outputs": [
    {
     "data": {
      "image/png": "[encoded data removed]",
      "text/plain": [
       "<Figure size 640x480 with 1 Axes>"
      ]
     },
     "metadata": {},
     "output_type": "display_data"
    }
   ],
   "source": [
    "ax = sns.barplot(data=total_mais_recorrentes, x=total_mais_recorrentes.index, y='Numero', palette='YlOrRd_r')\n",
    "\n",
    "plt.xticks(rotation=90)\n",
    "plt.title('Total de incêndios florestais por estado (1997-2017)')\n",
    "plt.xlabel('')\n",
    "plt.ylabel('Ocorrências')\n",
    "\n",
    "plt.show()"
   ]
  },
  {
   "cell_type": "markdown",
   "metadata": {},
   "source": [
    "___"
   ]
  },
  {
   "attachments": {},
   "cell_type": "markdown",
   "metadata": {},
   "source": [
    "## Média de incêndios por estado"
   ]
  },
  {
   "cell_type": "code",
   "execution_count": 47,
   "metadata": {},
   "outputs": [],
   "source": [
    "medias_mais_recorrentes = dados_originais.groupby('Estado').Numero.mean().sort_values(ascending=False).reset_index()"
   ]
  },
  {
   "cell_type": "code",
   "execution_count": 48,
   "metadata": {},
   "outputs": [
    {
     "data": {
      "image/png": "[encoded data removed]",
      "text/plain": [
       "<Figure size 640x480 with 1 Axes>"
      ]
     },
     "metadata": {},
     "output_type": "display_data"
    }
   ],
   "source": [
    "sns.barplot(data=medias_mais_recorrentes, x=medias_mais_recorrentes.Estado, y=medias_mais_recorrentes.Numero, palette='YlOrRd_r')\n",
    "\n",
    "plt.xticks(rotation=90)\n",
    "plt.title('Média de incêndios mensal por estado (1997-2017)')\n",
    "plt.xlabel('')\n",
    "plt.ylabel('Ocorrências')\n",
    "plt.show()"
   ]
  },
  {
   "attachments": {},
   "cell_type": "markdown",
   "metadata": {},
   "source": [
    "___"
   ]
  },
  {
   "cell_type": "code",
   "execution_count": 49,
   "metadata": {},
   "outputs": [
    {
     "data": {
      "text/html": [
       "<div>\n",
       "<style scoped>\n",
       "    .dataframe tbody tr th:only-of-type {\n",
       "        vertical-align: middle;\n",
       "    }\n",
       "\n",
       "    .dataframe tbody tr th {\n",
       "        vertical-align: top;\n",
       "    }\n",
       "\n",
       "    .dataframe thead th {\n",
       "        text-align: right;\n",
       "    }\n",
       "</style>\n",
       "<table border=\"1\" class=\"dataframe\">\n",
       "  <thead>\n",
       "    <tr style=\"text-align: right;\">\n",
       "      <th></th>\n",
       "      <th>Numero</th>\n",
       "      <th>Mes_int</th>\n",
       "    </tr>\n",
       "    <tr>\n",
       "      <th>Ano</th>\n",
       "      <th></th>\n",
       "      <th></th>\n",
       "    </tr>\n",
       "  </thead>\n",
       "  <tbody>\n",
       "    <tr>\n",
       "      <th>1998</th>\n",
       "      <td>123881</td>\n",
       "      <td>2106</td>\n",
       "    </tr>\n",
       "    <tr>\n",
       "      <th>1999</th>\n",
       "      <td>134596</td>\n",
       "      <td>2106</td>\n",
       "    </tr>\n",
       "    <tr>\n",
       "      <th>2000</th>\n",
       "      <td>101528</td>\n",
       "      <td>2106</td>\n",
       "    </tr>\n",
       "    <tr>\n",
       "      <th>2001</th>\n",
       "      <td>145567</td>\n",
       "      <td>2106</td>\n",
       "    </tr>\n",
       "    <tr>\n",
       "      <th>2002</th>\n",
       "      <td>235792</td>\n",
       "      <td>2106</td>\n",
       "    </tr>\n",
       "    <tr>\n",
       "      <th>2003</th>\n",
       "      <td>235242</td>\n",
       "      <td>2106</td>\n",
       "    </tr>\n",
       "    <tr>\n",
       "      <th>2004</th>\n",
       "      <td>270384</td>\n",
       "      <td>2106</td>\n",
       "    </tr>\n",
       "    <tr>\n",
       "      <th>2005</th>\n",
       "      <td>240764</td>\n",
       "      <td>2106</td>\n",
       "    </tr>\n",
       "    <tr>\n",
       "      <th>2006</th>\n",
       "      <td>136890</td>\n",
       "      <td>2106</td>\n",
       "    </tr>\n",
       "    <tr>\n",
       "      <th>2007</th>\n",
       "      <td>231252</td>\n",
       "      <td>2106</td>\n",
       "    </tr>\n",
       "    <tr>\n",
       "      <th>2008</th>\n",
       "      <td>123249</td>\n",
       "      <td>2106</td>\n",
       "    </tr>\n",
       "    <tr>\n",
       "      <th>2009</th>\n",
       "      <td>123211</td>\n",
       "      <td>2106</td>\n",
       "    </tr>\n",
       "    <tr>\n",
       "      <th>2010</th>\n",
       "      <td>249274</td>\n",
       "      <td>2106</td>\n",
       "    </tr>\n",
       "    <tr>\n",
       "      <th>2011</th>\n",
       "      <td>133080</td>\n",
       "      <td>2106</td>\n",
       "    </tr>\n",
       "    <tr>\n",
       "      <th>2012</th>\n",
       "      <td>193791</td>\n",
       "      <td>2106</td>\n",
       "    </tr>\n",
       "    <tr>\n",
       "      <th>2013</th>\n",
       "      <td>115184</td>\n",
       "      <td>2106</td>\n",
       "    </tr>\n",
       "    <tr>\n",
       "      <th>2014</th>\n",
       "      <td>183660</td>\n",
       "      <td>2106</td>\n",
       "    </tr>\n",
       "    <tr>\n",
       "      <th>2015</th>\n",
       "      <td>236305</td>\n",
       "      <td>2106</td>\n",
       "    </tr>\n",
       "    <tr>\n",
       "      <th>2016</th>\n",
       "      <td>188295</td>\n",
       "      <td>2106</td>\n",
       "    </tr>\n",
       "    <tr>\n",
       "      <th>2017</th>\n",
       "      <td>261047</td>\n",
       "      <td>1782</td>\n",
       "    </tr>\n",
       "  </tbody>\n",
       "</table>\n",
       "</div>"
      ],
      "text/plain": [
       "      Numero  Mes_int\n",
       "Ano                  \n",
       "1998  123881     2106\n",
       "1999  134596     2106\n",
       "2000  101528     2106\n",
       "2001  145567     2106\n",
       "2002  235792     2106\n",
       "2003  235242     2106\n",
       "2004  270384     2106\n",
       "2005  240764     2106\n",
       "2006  136890     2106\n",
       "2007  231252     2106\n",
       "2008  123249     2106\n",
       "2009  123211     2106\n",
       "2010  249274     2106\n",
       "2011  133080     2106\n",
       "2012  193791     2106\n",
       "2013  115184     2106\n",
       "2014  183660     2106\n",
       "2015  236305     2106\n",
       "2016  188295     2106\n",
       "2017  261047     1782"
      ]
     },
     "execution_count": 49,
     "metadata": {},
     "output_type": "execute_result"
    }
   ],
   "source": [
    "anos_mais_freq = dados_originais.groupby('Ano').sum()\n",
    "anos_mais_freq"
   ]
  },
  {
   "cell_type": "code",
   "execution_count": 50,
   "metadata": {},
   "outputs": [
    {
     "data": {
      "image/png": "[encoded data removed]",
      "text/plain": [
       "<Figure size 640x480 with 1 Axes>"
      ]
     },
     "metadata": {},
     "output_type": "display_data"
    }
   ],
   "source": [
    "ax= sns.lineplot(anos_mais_freq, x=anos_mais_freq.index, y=anos_mais_freq.Numero, label='Ocorrências')\n",
    "\n",
    "plt.axhline(anos_mais_freq.mean()[0], color='black', linestyle=':', label='Média')\n",
    "\n",
    "\n",
    "plt.legend()\n",
    "plt.xlabel('')\n",
    "plt.ylabel('')\n",
    "plt.xticks(range(1997,2018,1),rotation=90)\n",
    "plt.title('Total de queimadas por ano')\n",
    "\n",
    "plt.show()"
   ]
  },
  {
   "attachments": {},
   "cell_type": "markdown",
   "metadata": {},
   "source": [
    "# 📤 Exportando dados limpos p/ usar no Power BI"
   ]
  },
  {
   "attachments": {},
   "cell_type": "markdown",
   "metadata": {},
   "source": [
    "Aqui, a partir do método **to_csv** do Pandas, exportamos nossos dados limpos para um novo arquivo, para ser usado no PBI."
   ]
  },
  {
   "cell_type": "code",
   "execution_count": 51,
   "metadata": {},
   "outputs": [],
   "source": [
    "dados_originais.to_csv('Data/dados_limpos.csv', index=False)"
   ]
  },
  {
   "attachments": {},
   "cell_type": "markdown",
   "metadata": {},
   "source": [
    "_____"
   ]
  }
 ],
 "metadata": {
  "kernelspec": {
   "display_name": "Python 3",
   "language": "python",
   "name": "python3"
  },
  "language_info": {
   "codemirror_mode": {
    "name": "ipython",
    "version": 3
   },
   "file_extension": ".py",
   "mimetype": "text/x-python",
   "name": "python",
   "nbconvert_exporter": "python",
   "pygments_lexer": "ipython3",
   "version": "3.9.6"
  },
  "orig_nbformat": 4,
  "vscode": {
   "interpreter": {
    "hash": "11938c6bc6919ae2720b4d5011047913343b08a43b18698fd82dedb0d4417594"
   }
  }
 },
 "nbformat": 4,
 "nbformat_minor": 2
}
