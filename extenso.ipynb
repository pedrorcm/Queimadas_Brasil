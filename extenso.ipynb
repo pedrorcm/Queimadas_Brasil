{
 "cells": [
  {
   "attachments": {},
   "cell_type": "markdown",
   "metadata": {},
   "source": [
    "# <b style=\"color:#f87730\"> ⏩ Importando bibliotecas e o DataFrame. </b>"
   ]
  },
  {
   "attachments": {},
   "cell_type": "markdown",
   "metadata": {},
   "source": [
    "Como boa prática no nosso código, devemos começar importando o conjunto de ferramentas (bibliotecas)\n",
    "\n",
    "que serão utilizadas ao longo do código. Enquanto trabalhamos no projeto, podemos sentir a necessidade\n",
    "\n",
    "de \"chamar\" outras bibliotecas. Se for o caso, devemos voltar aqui e adicioná-las abaixo, afim de \n",
    "\n",
    "manter o código limpo e organizado, e para uma fácil identificação das ferramentas utilizadas. "
   ]
  },
  {
   "cell_type": "code",
   "execution_count": 1,
   "metadata": {},
   "outputs": [],
   "source": [
    "import numpy as np\n",
    "import pandas as pd\n",
    "import polars as pl\n",
    "import seaborn as sns\n",
    "import matplotlib.pyplot as plt"
   ]
  },
  {
   "attachments": {},
   "cell_type": "markdown",
   "metadata": {},
   "source": [
    "Após isso, devemos ler o(s) conjunto(s) de dados que será utilizado, a partir da função **READ** do pandas.\n",
    "\n",
    "###### O read conta com algumas variantes, a depender do tipo de arquivo lido. No nosso caso, utilizaremos o read_csv pois nossos arquivos estão no formato CSV."
   ]
  },
  {
   "cell_type": "code",
   "execution_count": 2,
   "metadata": {},
   "outputs": [],
   "source": [
    "# Ao rodar o código sem parâmetros (como o encoding), iremos nos deparar com um erro de decodificação de um caráctere.\n",
    "# Procurando sobre ele no google, podemos encontrar sua causa (caso não fosse conhecida) e sua solução.\n",
    "# Nesse caso, apenas trocar o encoding nos dará o resultado desejado, e conseguiremos ler o arquivo:\n",
    "\n",
    "data = pd.read_csv('Data/forest_fires.csv', encoding='latin-1')"
   ]
  },
  {
   "attachments": {},
   "cell_type": "markdown",
   "metadata": {},
   "source": [
    "# 🌎 Visão geral e Tratamento dos dados"
   ]
  },
  {
   "attachments": {},
   "cell_type": "markdown",
   "metadata": {},
   "source": [
    "Nosso DataFrame (DF) tem poucas colunas, e por isso conseguimos visualizar todas na própria chamada do DF:"
   ]
  },
  {
   "cell_type": "code",
   "execution_count": 3,
   "metadata": {},
   "outputs": [
    {
     "data": {
      "text/html": [
       "<div>\n",
       "<style scoped>\n",
       "    .dataframe tbody tr th:only-of-type {\n",
       "        vertical-align: middle;\n",
       "    }\n",
       "\n",
       "    .dataframe tbody tr th {\n",
       "        vertical-align: top;\n",
       "    }\n",
       "\n",
       "    .dataframe thead th {\n",
       "        text-align: right;\n",
       "    }\n",
       "</style>\n",
       "<table border=\"1\" class=\"dataframe\">\n",
       "  <thead>\n",
       "    <tr style=\"text-align: right;\">\n",
       "      <th></th>\n",
       "      <th>year</th>\n",
       "      <th>state</th>\n",
       "      <th>month</th>\n",
       "      <th>number</th>\n",
       "      <th>date</th>\n",
       "    </tr>\n",
       "  </thead>\n",
       "  <tbody>\n",
       "    <tr>\n",
       "      <th>0</th>\n",
       "      <td>1998</td>\n",
       "      <td>Acre</td>\n",
       "      <td>Janeiro</td>\n",
       "      <td>0.0</td>\n",
       "      <td>1998-01-01</td>\n",
       "    </tr>\n",
       "    <tr>\n",
       "      <th>1</th>\n",
       "      <td>1999</td>\n",
       "      <td>Acre</td>\n",
       "      <td>Janeiro</td>\n",
       "      <td>0.0</td>\n",
       "      <td>1999-01-01</td>\n",
       "    </tr>\n",
       "    <tr>\n",
       "      <th>2</th>\n",
       "      <td>2000</td>\n",
       "      <td>Acre</td>\n",
       "      <td>Janeiro</td>\n",
       "      <td>0.0</td>\n",
       "      <td>2000-01-01</td>\n",
       "    </tr>\n",
       "    <tr>\n",
       "      <th>3</th>\n",
       "      <td>2001</td>\n",
       "      <td>Acre</td>\n",
       "      <td>Janeiro</td>\n",
       "      <td>0.0</td>\n",
       "      <td>2001-01-01</td>\n",
       "    </tr>\n",
       "    <tr>\n",
       "      <th>4</th>\n",
       "      <td>2002</td>\n",
       "      <td>Acre</td>\n",
       "      <td>Janeiro</td>\n",
       "      <td>0.0</td>\n",
       "      <td>2002-01-01</td>\n",
       "    </tr>\n",
       "  </tbody>\n",
       "</table>\n",
       "</div>"
      ],
      "text/plain": [
       "   year state    month  number        date\n",
       "0  1998  Acre  Janeiro     0.0  1998-01-01\n",
       "1  1999  Acre  Janeiro     0.0  1999-01-01\n",
       "2  2000  Acre  Janeiro     0.0  2000-01-01\n",
       "3  2001  Acre  Janeiro     0.0  2001-01-01\n",
       "4  2002  Acre  Janeiro     0.0  2002-01-01"
      ]
     },
     "execution_count": 3,
     "metadata": {},
     "output_type": "execute_result"
    }
   ],
   "source": [
    "data.head()"
   ]
  },
  {
   "attachments": {},
   "cell_type": "markdown",
   "metadata": {},
   "source": [
    "Caso não fosse o caso (se o DF tiver dezenas de colunas), poderíamos ver todas a partir da propriedade **COLUMNS**:"
   ]
  },
  {
   "cell_type": "code",
   "execution_count": 4,
   "metadata": {},
   "outputs": [
    {
     "data": {
      "text/plain": [
       "Index(['year', 'state', 'month', 'number', 'date'], dtype='object')"
      ]
     },
     "execution_count": 4,
     "metadata": {},
     "output_type": "execute_result"
    }
   ],
   "source": [
    "data.columns"
   ]
  },
  {
   "cell_type": "code",
   "execution_count": 5,
   "metadata": {},
   "outputs": [
    {
     "data": {
      "text/plain": [
       "(6454, 5)"
      ]
     },
     "execution_count": 5,
     "metadata": {},
     "output_type": "execute_result"
    }
   ],
   "source": [
    "data.shape"
   ]
  },
  {
   "attachments": {},
   "cell_type": "markdown",
   "metadata": {},
   "source": [
    "_________"
   ]
  },
  {
   "attachments": {},
   "cell_type": "markdown",
   "metadata": {},
   "source": [
    "Outra propriedade, a **DTYPES**, nos permite ver os nomes das colunas e os tipos de dados que elas armazenam.\n",
    "\n",
    "É de extrema importância saber qual o tipo em que estão armazenados os nossos dados, para pensarmos\n",
    "\n",
    "na melhor solução possível para os problemas que envolverão essas entradas."
   ]
  },
  {
   "cell_type": "code",
   "execution_count": 6,
   "metadata": {},
   "outputs": [
    {
     "data": {
      "text/plain": [
       "year        int64\n",
       "state      object\n",
       "month      object\n",
       "number    float64\n",
       "date       object\n",
       "dtype: object"
      ]
     },
     "execution_count": 6,
     "metadata": {},
     "output_type": "execute_result"
    }
   ],
   "source": [
    "data.dtypes"
   ]
  },
  {
   "attachments": {},
   "cell_type": "markdown",
   "metadata": {},
   "source": [
    "Um exemplo claro disso é a coluna **DATE**, que representa o mês e ano daqueles dados.\n",
    "\n",
    "Essa coluna conta também com o dia, mas como estamos falando das médias mensais,\n",
    "\n",
    "ele acaba sendo sempre padronizado para 01. Como se trata de uma data, formataremos\n",
    "\n",
    "esta coluna para o tipo **DateTime**:"
   ]
  },
  {
   "cell_type": "code",
   "execution_count": 7,
   "metadata": {},
   "outputs": [],
   "source": [
    "data.date = pd.to_datetime(data.date)"
   ]
  },
  {
   "attachments": {},
   "cell_type": "markdown",
   "metadata": {},
   "source": [
    "De forma similar, percebemos que a coluna \"number\" está no formato **FLOAT**, porém devemos lembrar que\n",
    "\n",
    "o formato de FLOAT serve para números decimais. Porém, devemos concordar que não existe \"um fogo e meio\".\n",
    "\n",
    "Ou o incêndio existe ou não. Logo, vamos passar para **INT** essa coluna, que são os números inteiros."
   ]
  },
  {
   "cell_type": "code",
   "execution_count": 8,
   "metadata": {},
   "outputs": [],
   "source": [
    "data.number = data.number.astype('int64')"
   ]
  },
  {
   "attachments": {},
   "cell_type": "markdown",
   "metadata": {},
   "source": [
    "Ao chamar novamente o DTYPES, podemos observar que os seu tipos foram alterados:"
   ]
  },
  {
   "cell_type": "code",
   "execution_count": 9,
   "metadata": {},
   "outputs": [
    {
     "data": {
      "text/plain": [
       "year               int64\n",
       "state             object\n",
       "month             object\n",
       "number             int64\n",
       "date      datetime64[ns]\n",
       "dtype: object"
      ]
     },
     "execution_count": 9,
     "metadata": {},
     "output_type": "execute_result"
    }
   ],
   "source": [
    "data.dtypes"
   ]
  },
  {
   "attachments": {},
   "cell_type": "markdown",
   "metadata": {},
   "source": [
    "____"
   ]
  },
  {
   "attachments": {},
   "cell_type": "markdown",
   "metadata": {},
   "source": [
    "Agora, verificaremos se existem **dados duplicados**.\n",
    "\n",
    "Na linha de código abaixo, selecionamos dentro do conjunto de dados aqueles dados que são duplicados,\n",
    "\n",
    "e com o parâmetro Keep setado p/ False, podemos ter uma visão de todas entradas repetidas."
   ]
  },
  {
   "cell_type": "code",
   "execution_count": 10,
   "metadata": {},
   "outputs": [
    {
     "data": {
      "text/html": [
       "<div>\n",
       "<style scoped>\n",
       "    .dataframe tbody tr th:only-of-type {\n",
       "        vertical-align: middle;\n",
       "    }\n",
       "\n",
       "    .dataframe tbody tr th {\n",
       "        vertical-align: top;\n",
       "    }\n",
       "\n",
       "    .dataframe thead th {\n",
       "        text-align: right;\n",
       "    }\n",
       "</style>\n",
       "<table border=\"1\" class=\"dataframe\">\n",
       "  <thead>\n",
       "    <tr style=\"text-align: right;\">\n",
       "      <th></th>\n",
       "      <th>year</th>\n",
       "      <th>state</th>\n",
       "      <th>month</th>\n",
       "      <th>number</th>\n",
       "      <th>date</th>\n",
       "    </tr>\n",
       "  </thead>\n",
       "  <tbody>\n",
       "    <tr>\n",
       "      <th>258</th>\n",
       "      <td>2017</td>\n",
       "      <td>Alagoas</td>\n",
       "      <td>Janeiro</td>\n",
       "      <td>38</td>\n",
       "      <td>2017-01-01</td>\n",
       "    </tr>\n",
       "    <tr>\n",
       "      <th>259</th>\n",
       "      <td>2017</td>\n",
       "      <td>Alagoas</td>\n",
       "      <td>Janeiro</td>\n",
       "      <td>38</td>\n",
       "      <td>2017-01-01</td>\n",
       "    </tr>\n",
       "    <tr>\n",
       "      <th>2391</th>\n",
       "      <td>1998</td>\n",
       "      <td>Mato Grosso</td>\n",
       "      <td>Janeiro</td>\n",
       "      <td>0</td>\n",
       "      <td>1998-01-01</td>\n",
       "    </tr>\n",
       "    <tr>\n",
       "      <th>2411</th>\n",
       "      <td>1998</td>\n",
       "      <td>Mato Grosso</td>\n",
       "      <td>Fevereiro</td>\n",
       "      <td>0</td>\n",
       "      <td>1998-01-01</td>\n",
       "    </tr>\n",
       "    <tr>\n",
       "      <th>2431</th>\n",
       "      <td>1998</td>\n",
       "      <td>Mato Grosso</td>\n",
       "      <td>Março</td>\n",
       "      <td>0</td>\n",
       "      <td>1998-01-01</td>\n",
       "    </tr>\n",
       "    <tr>\n",
       "      <th>...</th>\n",
       "      <td>...</td>\n",
       "      <td>...</td>\n",
       "      <td>...</td>\n",
       "      <td>...</td>\n",
       "      <td>...</td>\n",
       "    </tr>\n",
       "    <tr>\n",
       "      <th>4841</th>\n",
       "      <td>1998</td>\n",
       "      <td>Rio</td>\n",
       "      <td>Abril</td>\n",
       "      <td>0</td>\n",
       "      <td>1998-01-01</td>\n",
       "    </tr>\n",
       "    <tr>\n",
       "      <th>4861</th>\n",
       "      <td>1998</td>\n",
       "      <td>Rio</td>\n",
       "      <td>Maio</td>\n",
       "      <td>0</td>\n",
       "      <td>1998-01-01</td>\n",
       "    </tr>\n",
       "    <tr>\n",
       "      <th>4864</th>\n",
       "      <td>2001</td>\n",
       "      <td>Rio</td>\n",
       "      <td>Maio</td>\n",
       "      <td>4</td>\n",
       "      <td>2001-01-01</td>\n",
       "    </tr>\n",
       "    <tr>\n",
       "      <th>4910</th>\n",
       "      <td>2007</td>\n",
       "      <td>Rio</td>\n",
       "      <td>Julho</td>\n",
       "      <td>7</td>\n",
       "      <td>2007-01-01</td>\n",
       "    </tr>\n",
       "    <tr>\n",
       "      <th>4932</th>\n",
       "      <td>2009</td>\n",
       "      <td>Rio</td>\n",
       "      <td>Agosto</td>\n",
       "      <td>1</td>\n",
       "      <td>2009-01-01</td>\n",
       "    </tr>\n",
       "  </tbody>\n",
       "</table>\n",
       "<p>61 rows × 5 columns</p>\n",
       "</div>"
      ],
      "text/plain": [
       "      year        state      month  number       date\n",
       "258   2017      Alagoas    Janeiro      38 2017-01-01\n",
       "259   2017      Alagoas    Janeiro      38 2017-01-01\n",
       "2391  1998  Mato Grosso    Janeiro       0 1998-01-01\n",
       "2411  1998  Mato Grosso  Fevereiro       0 1998-01-01\n",
       "2431  1998  Mato Grosso      Março       0 1998-01-01\n",
       "...    ...          ...        ...     ...        ...\n",
       "4841  1998          Rio      Abril       0 1998-01-01\n",
       "4861  1998          Rio       Maio       0 1998-01-01\n",
       "4864  2001          Rio       Maio       4 2001-01-01\n",
       "4910  2007          Rio      Julho       7 2007-01-01\n",
       "4932  2009          Rio     Agosto       1 2009-01-01\n",
       "\n",
       "[61 rows x 5 columns]"
      ]
     },
     "execution_count": 10,
     "metadata": {},
     "output_type": "execute_result"
    }
   ],
   "source": [
    "data[data.duplicated(keep=False)]"
   ]
  },
  {
   "attachments": {},
   "cell_type": "markdown",
   "metadata": {},
   "source": [
    "Atenção: O Keep = False servirá apenas para a visualização dos dados,\n",
    "\n",
    "pois se o mantermos durante a remoção dos dados, acabaremos com um total\n",
    "\n",
    "de 0 dessas entradas (ele não MANTERÁ nenhuma). Segue abaixo:"
   ]
  },
  {
   "cell_type": "code",
   "execution_count": 11,
   "metadata": {},
   "outputs": [],
   "source": [
    "data = data.drop_duplicates()"
   ]
  },
  {
   "cell_type": "code",
   "execution_count": 12,
   "metadata": {},
   "outputs": [
    {
     "data": {
      "text/html": [
       "<div>\n",
       "<style scoped>\n",
       "    .dataframe tbody tr th:only-of-type {\n",
       "        vertical-align: middle;\n",
       "    }\n",
       "\n",
       "    .dataframe tbody tr th {\n",
       "        vertical-align: top;\n",
       "    }\n",
       "\n",
       "    .dataframe thead th {\n",
       "        text-align: right;\n",
       "    }\n",
       "</style>\n",
       "<table border=\"1\" class=\"dataframe\">\n",
       "  <thead>\n",
       "    <tr style=\"text-align: right;\">\n",
       "      <th></th>\n",
       "      <th>year</th>\n",
       "      <th>state</th>\n",
       "      <th>month</th>\n",
       "      <th>number</th>\n",
       "      <th>date</th>\n",
       "    </tr>\n",
       "  </thead>\n",
       "  <tbody>\n",
       "  </tbody>\n",
       "</table>\n",
       "</div>"
      ],
      "text/plain": [
       "Empty DataFrame\n",
       "Columns: [year, state, month, number, date]\n",
       "Index: []"
      ]
     },
     "execution_count": 12,
     "metadata": {},
     "output_type": "execute_result"
    }
   ],
   "source": [
    "# Verificando novamente, vemos que não existem mais valores duplicados:\n",
    "\n",
    "data[data.duplicated(keep=False)]"
   ]
  },
  {
   "attachments": {},
   "cell_type": "markdown",
   "metadata": {},
   "source": [
    "________"
   ]
  },
  {
   "attachments": {},
   "cell_type": "markdown",
   "metadata": {},
   "source": [
    "Outro ponto importante que devemos SEMPRE estar atentos são valores nulos e faltantes. Podemos determinar a sua quantidade da seguinte maneira:\n",
    "\n",
    "Usamos o método .isnull(), que determinará uma variável booleana ao registro (False se o registro estiver preenchido, True caso esteja faltando)\n",
    "\n",
    "Após isso, usamos outro método, o .sum() para realizar a contagem geral do total de registros faltantes. Caso exista algum registro faltante devemos observar\n",
    "\n",
    "um número diferente de 0, e tomar as devidas providências para que nossas análises não sejam contaminadas ou atrapalhadas por ele."
   ]
  },
  {
   "cell_type": "code",
   "execution_count": 13,
   "metadata": {},
   "outputs": [
    {
     "data": {
      "text/plain": [
       "year      0\n",
       "state     0\n",
       "month     0\n",
       "number    0\n",
       "date      0\n",
       "dtype: int64"
      ]
     },
     "execution_count": 13,
     "metadata": {},
     "output_type": "execute_result"
    }
   ],
   "source": [
    "# No conjunto de dados trabalhado, observamos que todos os valores existem e não há registros nulos, logo não será necessário nenhuma alteração aqui:\n",
    "\n",
    "data.isnull().sum()"
   ]
  },
  {
   "attachments": {},
   "cell_type": "markdown",
   "metadata": {},
   "source": [
    "______"
   ]
  },
  {
   "attachments": {},
   "cell_type": "markdown",
   "metadata": {},
   "source": [
    "# 🔍 Visualizando os dados limpos"
   ]
  },
  {
   "attachments": {},
   "cell_type": "markdown",
   "metadata": {},
   "source": [
    "Em seguida, podemos usar o método **DESCRIBE** para observar algumas das características das colunas numéricas do DF"
   ]
  },
  {
   "cell_type": "code",
   "execution_count": 14,
   "metadata": {},
   "outputs": [
    {
     "data": {
      "text/html": [
       "<div>\n",
       "<style scoped>\n",
       "    .dataframe tbody tr th:only-of-type {\n",
       "        vertical-align: middle;\n",
       "    }\n",
       "\n",
       "    .dataframe tbody tr th {\n",
       "        vertical-align: top;\n",
       "    }\n",
       "\n",
       "    .dataframe thead th {\n",
       "        text-align: right;\n",
       "    }\n",
       "</style>\n",
       "<table border=\"1\" class=\"dataframe\">\n",
       "  <thead>\n",
       "    <tr style=\"text-align: right;\">\n",
       "      <th></th>\n",
       "      <th>year</th>\n",
       "      <th>number</th>\n",
       "    </tr>\n",
       "  </thead>\n",
       "  <tbody>\n",
       "    <tr>\n",
       "      <th>count</th>\n",
       "      <td>6421.000000</td>\n",
       "      <td>6421.000000</td>\n",
       "    </tr>\n",
       "    <tr>\n",
       "      <th>mean</th>\n",
       "      <td>2007.490734</td>\n",
       "      <td>108.773867</td>\n",
       "    </tr>\n",
       "    <tr>\n",
       "      <th>std</th>\n",
       "      <td>5.732222</td>\n",
       "      <td>191.184606</td>\n",
       "    </tr>\n",
       "    <tr>\n",
       "      <th>min</th>\n",
       "      <td>1998.000000</td>\n",
       "      <td>0.000000</td>\n",
       "    </tr>\n",
       "    <tr>\n",
       "      <th>25%</th>\n",
       "      <td>2003.000000</td>\n",
       "      <td>3.000000</td>\n",
       "    </tr>\n",
       "    <tr>\n",
       "      <th>50%</th>\n",
       "      <td>2007.000000</td>\n",
       "      <td>24.000000</td>\n",
       "    </tr>\n",
       "    <tr>\n",
       "      <th>75%</th>\n",
       "      <td>2012.000000</td>\n",
       "      <td>114.000000</td>\n",
       "    </tr>\n",
       "    <tr>\n",
       "      <th>max</th>\n",
       "      <td>2017.000000</td>\n",
       "      <td>998.000000</td>\n",
       "    </tr>\n",
       "  </tbody>\n",
       "</table>\n",
       "</div>"
      ],
      "text/plain": [
       "              year       number\n",
       "count  6421.000000  6421.000000\n",
       "mean   2007.490734   108.773867\n",
       "std       5.732222   191.184606\n",
       "min    1998.000000     0.000000\n",
       "25%    2003.000000     3.000000\n",
       "50%    2007.000000    24.000000\n",
       "75%    2012.000000   114.000000\n",
       "max    2017.000000   998.000000"
      ]
     },
     "execution_count": 14,
     "metadata": {},
     "output_type": "execute_result"
    }
   ],
   "source": [
    "data.describe()"
   ]
  },
  {
   "attachments": {},
   "cell_type": "markdown",
   "metadata": {},
   "source": [
    "A partir do describe, podemos ter uma visão das características gerais do DF:\n",
    "\n",
    "1. Count - **Contagem de registros** (linhas) na coluna;\n",
    "\n",
    "2. Mean - **Média da coluna**;\n",
    "\n",
    "3. Std - **Desvio padrão da coluna** (podemos observar por exemplo que no **YEAR** o STD é baixo,\n",
    "\n",
    "    pois os dados se concentram num período de apenas 19 anos de diferença, enquanto no NUMBER\n",
    "    \n",
    "    temos um STD muito mais alto, pois os dados variam entre 0 e 998 na coluna;\n",
    "\n",
    "4. Min - **Valor mínimo** encontrado na coluna, menor registro;\n",
    "\n",
    "5. 25% - **Primeiro Quartil** ou **Q1** (25% dos valores se encontram abaixo daqui);\n",
    "\n",
    "6. 50% - **Segundo Quartil** ou **Q2** (50% dos valores estão abaixo daqui);\n",
    "\n",
    "7. 75% - **Terceiro Quartil** ou **Q3** (75% dos valores estão abaixo daqui);\n",
    "\n",
    "8. Max - **Valor máximo** encontrado na coluna, maior registro."
   ]
  },
  {
   "cell_type": "code",
   "execution_count": 15,
   "metadata": {},
   "outputs": [
    {
     "data": {
      "text/plain": [
       "year      2009.0\n",
       "number      46.0\n",
       "Name: 0.6, dtype: float64"
      ]
     },
     "execution_count": 15,
     "metadata": {},
     "output_type": "execute_result"
    }
   ],
   "source": [
    "# Além dos quartis padrão vistos acima, podemos obter os dados que se encontram antes de uma porcentagem X%,\n",
    "# utilizando o método QUANTILE, e dentro dele passando a porcentagem que desejamos como argumento: nesse caso, 60%\n",
    "\n",
    "data.quantile(0.60)"
   ]
  },
  {
   "attachments": {},
   "cell_type": "markdown",
   "metadata": {},
   "source": [
    "Também podemos gerar gráficos que nos ajudam na visualização da distribuição dos dados, como o **BOXPLOT**.\n",
    "\n",
    "Nesse caso, podemos ver os três quartis citados acima na **BARRA** do gráfico, sendo sua parte inferior o Q1,\n",
    "\n",
    "a linha verde o Q2 e sua parte superior o Q3. Além disso, percebemos também uma linha que segue até um valor\n",
    "\n",
    "que se aproxima de 275. Esses dados são considerados \"normais\" dentro da distribuição. Os pontos pretos são os **OUTLIERS**,\n",
    "\n",
    "dados que não estão dentro da distribuição esperada da maioria dos dados. Porém, isso não quer dizer que devemos sempre\n",
    "\n",
    "eliminar estes dados, ou que eles são um problema. Nesse caso, eles não afetarão nossas análises estatísticas nem os gráficos,\n",
    "\n",
    "e por se tratarem de uma representação da realidade, serão mantidos no nosso conjunto de dados."
   ]
  },
  {
   "cell_type": "code",
   "execution_count": 16,
   "metadata": {},
   "outputs": [
    {
     "data": {
      "image/png": "[encoded data removed]",
      "text/plain": [
       "<Figure size 500x800 with 1 Axes>"
      ]
     },
     "metadata": {},
     "output_type": "display_data"
    }
   ],
   "source": [
    "# Nestes dados os outliers (bolinhas pretas) vão até próximas do valor de 1000 se não limitarmos o tamanho do gráfico.\n",
    "# Porém, para melhor visualização dos quartis em si, optei por limitar o range entre 0 e 300, onde começam a aparecer\n",
    "# Os primeiros outliers. Os valores continuam existindo, apenas não estão destacados no gráfico.\n",
    "\n",
    "\n",
    "data.number.plot(kind='box', figsize=(5,8))\n",
    "\n",
    "plt.ylim(0,300)\n",
    "plt.show()"
   ]
  },
  {
   "attachments": {},
   "cell_type": "markdown",
   "metadata": {},
   "source": [
    "Outro método para verificarmos essa distribuição é o **DISTPLOT**, da biblioteca **SEABORN**:\n",
    "\n",
    "Notamos que ela não é uma Distribuição Padrão (Gaussiana/Bell Shaped), e sim uma distribuição\n",
    "\n",
    "<b style=\"color:#1c87d9\">**RIGHT SKEWED**</b>, ou seja, seus dados seguem o padrão de estarem altamente concentrados na parte DIREITA.\n",
    "\n",
    "Isso se confirma quando observamos os valores da Moda, que vem primeiro (0), seguido da mediana (24) e em seguida, a Média (108)"
   ]
  },
  {
   "cell_type": "code",
   "execution_count": 17,
   "metadata": {},
   "outputs": [
    {
     "name": "stdout",
     "output_type": "stream",
     "text": [
      "Moda: 0;\n",
      "Mediana: 24.0;\n",
      "Média: 108.77386699890982\n"
     ]
    },
    {
     "data": {
      "image/png": "[encoded data removed]",
      "text/plain": [
       "<Figure size 500x500 with 1 Axes>"
      ]
     },
     "metadata": {},
     "output_type": "display_data"
    }
   ],
   "source": [
    "sns.displot(data, x='number', binwidth=20)\n",
    "\n",
    "plt.plot()\n",
    "print(f'Moda: {data.number.mode()[0]};\\nMediana: {data.number.median()};\\nMédia: {data.number.mean()}')\n"
   ]
  },
  {
   "attachments": {},
   "cell_type": "markdown",
   "metadata": {},
   "source": [
    "____"
   ]
  },
  {
   "attachments": {},
   "cell_type": "markdown",
   "metadata": {},
   "source": []
  },
  {
   "attachments": {},
   "cell_type": "markdown",
   "metadata": {},
   "source": [
    "> ❗ ATENÇÃO: Para o tipo ser realmente alterado, temos de atribuir a operação (to_datetime) ao objeto a ser alterado,\n",
    ">\n",
    ">   neste caso, a própria coluna de data. Pode ser feito com a atribuição acima, ou usando o parâmetro **INPLACE**, que apesar de funcionar,\n",
    ">\n",
    ">   é atualmente uma prática desencorajada pela própria documentação do Pandas."
   ]
  }
 ],
 "metadata": {
  "kernelspec": {
   "display_name": "Python 3",
   "language": "python",
   "name": "python3"
  },
  "language_info": {
   "codemirror_mode": {
    "name": "ipython",
    "version": 3
   },
   "file_extension": ".py",
   "mimetype": "text/x-python",
   "name": "python",
   "nbconvert_exporter": "python",
   "pygments_lexer": "ipython3",
   "version": "3.9.6"
  },
  "orig_nbformat": 4,
  "vscode": {
   "interpreter": {
    "hash": "11938c6bc6919ae2720b4d5011047913343b08a43b18698fd82dedb0d4417594"
   }
  }
 },
 "nbformat": 4,
 "nbformat_minor": 2
}
