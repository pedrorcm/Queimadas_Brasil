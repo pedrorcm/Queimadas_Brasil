{
 "cells": [
  {
   "attachments": {},
   "cell_type": "markdown",
   "metadata": {},
   "source": [
    "# <b style=\"color:#f87730\"> ⏩ Importando bibliotecas e o DataFrame. </b>"
   ]
  },
  {
   "attachments": {},
   "cell_type": "markdown",
   "metadata": {},
   "source": [
    "Como boa prática no nosso código, devemos começar importando o conjunto de ferramentas (bibliotecas)\n",
    "\n",
    "que serão utilizadas ao longo do código. Enquanto trabalhamos no projeto, podemos sentir a necessidade\n",
    "\n",
    "de \"chamar\" outras bibliotecas. Se for o caso, devemos voltar aqui e adicioná-las abaixo, afim de \n",
    "\n",
    "manter o código limpo e organizado, e para uma fácil identificação das ferramentas utilizadas. "
   ]
  },
  {
   "cell_type": "code",
   "execution_count": 1,
   "metadata": {},
   "outputs": [],
   "source": [
    "import csv\n",
    "import numpy as np\n",
    "import pandas as pd\n",
    "import polars as pl\n",
    "import seaborn as sns\n",
    "import matplotlib.pyplot as plt"
   ]
  },
  {
   "attachments": {},
   "cell_type": "markdown",
   "metadata": {},
   "source": [
    "Após isso, devemos ler o(s) conjunto(s) de dados que será utilizado, a partir da função **READ** do pandas.\n",
    "\n",
    "###### O read conta com algumas variantes, a depender do tipo de arquivo lido. No nosso caso, utilizaremos o read_csv pois nossos arquivos estão no formato CSV."
   ]
  },
  {
   "cell_type": "code",
   "execution_count": 2,
   "metadata": {},
   "outputs": [],
   "source": [
    "# Ao rodar o código sem parâmetros (como o encoding), iremos nos deparar com um erro de decodificação de um caráctere.\n",
    "# Procurando sobre ele no google, podemos encontrar sua causa (caso não fosse conhecida) e sua solução.\n",
    "# Nesse caso, apenas trocar o encoding nos dará o resultado desejado, e conseguiremos ler o arquivo:\n",
    "\n",
    "data = pd.read_csv('Data/forest_fires.csv', encoding='latin-1')"
   ]
  },
  {
   "attachments": {},
   "cell_type": "markdown",
   "metadata": {},
   "source": [
    "# 🌎 Visão geral e Tratamento dos dados"
   ]
  },
  {
   "attachments": {},
   "cell_type": "markdown",
   "metadata": {},
   "source": [
    "Nosso DataFrame (DF) tem poucas colunas, e por isso conseguimos visualizar todas na própria chamada do DF:"
   ]
  },
  {
   "cell_type": "code",
   "execution_count": 3,
   "metadata": {},
   "outputs": [
    {
     "data": {
      "text/html": [
       "<div>\n",
       "<style scoped>\n",
       "    .dataframe tbody tr th:only-of-type {\n",
       "        vertical-align: middle;\n",
       "    }\n",
       "\n",
       "    .dataframe tbody tr th {\n",
       "        vertical-align: top;\n",
       "    }\n",
       "\n",
       "    .dataframe thead th {\n",
       "        text-align: right;\n",
       "    }\n",
       "</style>\n",
       "<table border=\"1\" class=\"dataframe\">\n",
       "  <thead>\n",
       "    <tr style=\"text-align: right;\">\n",
       "      <th></th>\n",
       "      <th>year</th>\n",
       "      <th>state</th>\n",
       "      <th>month</th>\n",
       "      <th>number</th>\n",
       "      <th>date</th>\n",
       "    </tr>\n",
       "  </thead>\n",
       "  <tbody>\n",
       "    <tr>\n",
       "      <th>0</th>\n",
       "      <td>1998</td>\n",
       "      <td>Acre</td>\n",
       "      <td>Janeiro</td>\n",
       "      <td>0.0</td>\n",
       "      <td>1998-01-01</td>\n",
       "    </tr>\n",
       "    <tr>\n",
       "      <th>1</th>\n",
       "      <td>1999</td>\n",
       "      <td>Acre</td>\n",
       "      <td>Janeiro</td>\n",
       "      <td>0.0</td>\n",
       "      <td>1999-01-01</td>\n",
       "    </tr>\n",
       "    <tr>\n",
       "      <th>2</th>\n",
       "      <td>2000</td>\n",
       "      <td>Acre</td>\n",
       "      <td>Janeiro</td>\n",
       "      <td>0.0</td>\n",
       "      <td>2000-01-01</td>\n",
       "    </tr>\n",
       "    <tr>\n",
       "      <th>3</th>\n",
       "      <td>2001</td>\n",
       "      <td>Acre</td>\n",
       "      <td>Janeiro</td>\n",
       "      <td>0.0</td>\n",
       "      <td>2001-01-01</td>\n",
       "    </tr>\n",
       "    <tr>\n",
       "      <th>4</th>\n",
       "      <td>2002</td>\n",
       "      <td>Acre</td>\n",
       "      <td>Janeiro</td>\n",
       "      <td>0.0</td>\n",
       "      <td>2002-01-01</td>\n",
       "    </tr>\n",
       "  </tbody>\n",
       "</table>\n",
       "</div>"
      ],
      "text/plain": [
       "   year state    month  number        date\n",
       "0  1998  Acre  Janeiro     0.0  1998-01-01\n",
       "1  1999  Acre  Janeiro     0.0  1999-01-01\n",
       "2  2000  Acre  Janeiro     0.0  2000-01-01\n",
       "3  2001  Acre  Janeiro     0.0  2001-01-01\n",
       "4  2002  Acre  Janeiro     0.0  2002-01-01"
      ]
     },
     "execution_count": 3,
     "metadata": {},
     "output_type": "execute_result"
    }
   ],
   "source": [
    "data.head()"
   ]
  },
  {
   "attachments": {},
   "cell_type": "markdown",
   "metadata": {},
   "source": [
    "Caso não fosse o caso (se o DF tiver dezenas de colunas), poderíamos ver todas a partir da propriedade **COLUMNS**:"
   ]
  },
  {
   "cell_type": "code",
   "execution_count": 4,
   "metadata": {},
   "outputs": [
    {
     "data": {
      "text/plain": [
       "Index(['year', 'state', 'month', 'number', 'date'], dtype='object')"
      ]
     },
     "execution_count": 4,
     "metadata": {},
     "output_type": "execute_result"
    }
   ],
   "source": [
    "data.columns"
   ]
  },
  {
   "cell_type": "code",
   "execution_count": 5,
   "metadata": {},
   "outputs": [
    {
     "data": {
      "text/plain": [
       "(6454, 5)"
      ]
     },
     "execution_count": 5,
     "metadata": {},
     "output_type": "execute_result"
    }
   ],
   "source": [
    "data.shape"
   ]
  },
  {
   "attachments": {},
   "cell_type": "markdown",
   "metadata": {},
   "source": [
    "_________"
   ]
  },
  {
   "attachments": {},
   "cell_type": "markdown",
   "metadata": {},
   "source": [
    "Outra propriedade, a **DTYPES**, nos permite ver os nomes das colunas e os tipos de dados que elas armazenam.\n",
    "\n",
    "É de extrema importância saber qual o tipo em que estão armazenados os nossos dados, para pensarmos\n",
    "\n",
    "na melhor solução possível para os problemas que envolverão essas entradas."
   ]
  },
  {
   "cell_type": "code",
   "execution_count": 6,
   "metadata": {},
   "outputs": [
    {
     "data": {
      "text/plain": [
       "year        int64\n",
       "state      object\n",
       "month      object\n",
       "number    float64\n",
       "date       object\n",
       "dtype: object"
      ]
     },
     "execution_count": 6,
     "metadata": {},
     "output_type": "execute_result"
    }
   ],
   "source": [
    "data.dtypes"
   ]
  },
  {
   "attachments": {},
   "cell_type": "markdown",
   "metadata": {},
   "source": [
    "Um exemplo claro disso é a coluna **DATE**, que atualmente está como object. Caso fosse utilizar\n",
    "\n",
    "essa coluna, ela seria transformada em um **DATETIME**, conforme a fórmula a seguir:"
   ]
  },
  {
   "cell_type": "code",
   "execution_count": 7,
   "metadata": {},
   "outputs": [],
   "source": [
    "data.date = pd.to_datetime(data.date)"
   ]
  },
  {
   "attachments": {},
   "cell_type": "markdown",
   "metadata": {},
   "source": [
    "Porém, se olharmos com um pouco mais de cuidado para essa coluna, vamos perceber sua redundância:\n",
    "\n",
    "Nesse caso, ela trata de uma média mensal, logo seus dias são sempre setados como 01. Além disso,\n",
    "\n",
    "por alguma razão (formato divulgado pelo governo? erro no scrapping/transformação antes do upload no Kaggle?)\n",
    "\n",
    "todos os meses nessa coluna também estão setados como 01, conforme observamos abaixo:"
   ]
  },
  {
   "cell_type": "code",
   "execution_count": 8,
   "metadata": {},
   "outputs": [
    {
     "name": "stdout",
     "output_type": "stream",
     "text": [
      "Dias:\n",
      " 1    6454\n",
      "Name: date, dtype: int64\n",
      "Meses:\n",
      " 1    6454\n",
      "Name: date, dtype: int64\n"
     ]
    }
   ],
   "source": [
    "print(f'Dias:\\n {data.date.dt.day.value_counts()}')\n",
    "\n",
    "print(f'Meses:\\n {data.date.dt.month.value_counts()}')"
   ]
  },
  {
   "attachments": {},
   "cell_type": "markdown",
   "metadata": {},
   "source": [
    "Com isso, opto por remover esta coluna do nosso DF, já que suas informações já existem nas colunas \"year\" e \"month\"\n",
    "\n",
    "> ❗ ATENÇÃO: Para a alteração ser atribuída e não apenas visualizada, devemos atribuir a operação (drop) a uma variável,\n",
    ">\n",
    ">   neste caso, o próprio DF. Pode ser feito como na atribuição abaixo, ou usando o parâmetro **INPLACE**, que apesar de funcionar,\n",
    ">\n",
    ">   é atualmente uma prática desencorajada pela própria documentação do Pandas."
   ]
  },
  {
   "cell_type": "code",
   "execution_count": 9,
   "metadata": {},
   "outputs": [],
   "source": [
    "data = data.drop(\"date\", axis=1)"
   ]
  },
  {
   "attachments": {},
   "cell_type": "markdown",
   "metadata": {},
   "source": [
    "De forma similar, percebemos que a coluna \"number\" está no formato **FLOAT**, porém devemos lembrar que\n",
    "\n",
    "o formato de FLOAT serve para números decimais. Porém, devemos concordar que não existe \"um fogo e meio\".\n",
    "\n",
    "Ou o incêndio existe ou não. Logo, vamos passar para **INT** essa coluna, que são os números inteiros."
   ]
  },
  {
   "cell_type": "code",
   "execution_count": 10,
   "metadata": {},
   "outputs": [],
   "source": [
    "data.number = data.number.astype('int64')"
   ]
  },
  {
   "attachments": {},
   "cell_type": "markdown",
   "metadata": {},
   "source": [
    "Ao chamar novamente o DTYPES, podemos observar que os seu tipos foram alterados:"
   ]
  },
  {
   "cell_type": "code",
   "execution_count": 11,
   "metadata": {},
   "outputs": [
    {
     "data": {
      "text/plain": [
       "year       int64\n",
       "state     object\n",
       "month     object\n",
       "number     int64\n",
       "dtype: object"
      ]
     },
     "execution_count": 11,
     "metadata": {},
     "output_type": "execute_result"
    }
   ],
   "source": [
    "data.dtypes"
   ]
  },
  {
   "attachments": {},
   "cell_type": "markdown",
   "metadata": {},
   "source": [
    "____"
   ]
  },
  {
   "attachments": {},
   "cell_type": "markdown",
   "metadata": {},
   "source": [
    "Agora, verificaremos se existem **dados duplicados**.\n",
    "\n",
    "Na linha de código abaixo, selecionamos dentro do conjunto de dados aqueles dados que são duplicados,\n",
    "\n",
    "e com o parâmetro Keep setado p/ False, podemos ter uma visão de todas entradas repetidas."
   ]
  },
  {
   "cell_type": "code",
   "execution_count": 12,
   "metadata": {},
   "outputs": [
    {
     "data": {
      "text/html": [
       "<div>\n",
       "<style scoped>\n",
       "    .dataframe tbody tr th:only-of-type {\n",
       "        vertical-align: middle;\n",
       "    }\n",
       "\n",
       "    .dataframe tbody tr th {\n",
       "        vertical-align: top;\n",
       "    }\n",
       "\n",
       "    .dataframe thead th {\n",
       "        text-align: right;\n",
       "    }\n",
       "</style>\n",
       "<table border=\"1\" class=\"dataframe\">\n",
       "  <thead>\n",
       "    <tr style=\"text-align: right;\">\n",
       "      <th></th>\n",
       "      <th>year</th>\n",
       "      <th>state</th>\n",
       "      <th>month</th>\n",
       "      <th>number</th>\n",
       "    </tr>\n",
       "  </thead>\n",
       "  <tbody>\n",
       "    <tr>\n",
       "      <th>258</th>\n",
       "      <td>2017</td>\n",
       "      <td>Alagoas</td>\n",
       "      <td>Janeiro</td>\n",
       "      <td>38</td>\n",
       "    </tr>\n",
       "    <tr>\n",
       "      <th>259</th>\n",
       "      <td>2017</td>\n",
       "      <td>Alagoas</td>\n",
       "      <td>Janeiro</td>\n",
       "      <td>38</td>\n",
       "    </tr>\n",
       "    <tr>\n",
       "      <th>2391</th>\n",
       "      <td>1998</td>\n",
       "      <td>Mato Grosso</td>\n",
       "      <td>Janeiro</td>\n",
       "      <td>0</td>\n",
       "    </tr>\n",
       "    <tr>\n",
       "      <th>2411</th>\n",
       "      <td>1998</td>\n",
       "      <td>Mato Grosso</td>\n",
       "      <td>Fevereiro</td>\n",
       "      <td>0</td>\n",
       "    </tr>\n",
       "    <tr>\n",
       "      <th>2431</th>\n",
       "      <td>1998</td>\n",
       "      <td>Mato Grosso</td>\n",
       "      <td>Março</td>\n",
       "      <td>0</td>\n",
       "    </tr>\n",
       "    <tr>\n",
       "      <th>...</th>\n",
       "      <td>...</td>\n",
       "      <td>...</td>\n",
       "      <td>...</td>\n",
       "      <td>...</td>\n",
       "    </tr>\n",
       "    <tr>\n",
       "      <th>4841</th>\n",
       "      <td>1998</td>\n",
       "      <td>Rio</td>\n",
       "      <td>Abril</td>\n",
       "      <td>0</td>\n",
       "    </tr>\n",
       "    <tr>\n",
       "      <th>4861</th>\n",
       "      <td>1998</td>\n",
       "      <td>Rio</td>\n",
       "      <td>Maio</td>\n",
       "      <td>0</td>\n",
       "    </tr>\n",
       "    <tr>\n",
       "      <th>4864</th>\n",
       "      <td>2001</td>\n",
       "      <td>Rio</td>\n",
       "      <td>Maio</td>\n",
       "      <td>4</td>\n",
       "    </tr>\n",
       "    <tr>\n",
       "      <th>4910</th>\n",
       "      <td>2007</td>\n",
       "      <td>Rio</td>\n",
       "      <td>Julho</td>\n",
       "      <td>7</td>\n",
       "    </tr>\n",
       "    <tr>\n",
       "      <th>4932</th>\n",
       "      <td>2009</td>\n",
       "      <td>Rio</td>\n",
       "      <td>Agosto</td>\n",
       "      <td>1</td>\n",
       "    </tr>\n",
       "  </tbody>\n",
       "</table>\n",
       "<p>61 rows × 4 columns</p>\n",
       "</div>"
      ],
      "text/plain": [
       "      year        state      month  number\n",
       "258   2017      Alagoas    Janeiro      38\n",
       "259   2017      Alagoas    Janeiro      38\n",
       "2391  1998  Mato Grosso    Janeiro       0\n",
       "2411  1998  Mato Grosso  Fevereiro       0\n",
       "2431  1998  Mato Grosso      Março       0\n",
       "...    ...          ...        ...     ...\n",
       "4841  1998          Rio      Abril       0\n",
       "4861  1998          Rio       Maio       0\n",
       "4864  2001          Rio       Maio       4\n",
       "4910  2007          Rio      Julho       7\n",
       "4932  2009          Rio     Agosto       1\n",
       "\n",
       "[61 rows x 4 columns]"
      ]
     },
     "execution_count": 12,
     "metadata": {},
     "output_type": "execute_result"
    }
   ],
   "source": [
    "data[data.duplicated(keep=False)]"
   ]
  },
  {
   "attachments": {},
   "cell_type": "markdown",
   "metadata": {},
   "source": [
    "Atenção: O Keep = False servirá apenas para a visualização dos dados,\n",
    "\n",
    "pois se o mantermos durante a remoção dos dados, acabaremos com um total\n",
    "\n",
    "de 0 dessas entradas (ele não MANTERÁ nenhuma). Segue abaixo:"
   ]
  },
  {
   "cell_type": "code",
   "execution_count": 13,
   "metadata": {},
   "outputs": [],
   "source": [
    "data = data.drop_duplicates()"
   ]
  },
  {
   "cell_type": "code",
   "execution_count": 14,
   "metadata": {},
   "outputs": [
    {
     "data": {
      "text/html": [
       "<div>\n",
       "<style scoped>\n",
       "    .dataframe tbody tr th:only-of-type {\n",
       "        vertical-align: middle;\n",
       "    }\n",
       "\n",
       "    .dataframe tbody tr th {\n",
       "        vertical-align: top;\n",
       "    }\n",
       "\n",
       "    .dataframe thead th {\n",
       "        text-align: right;\n",
       "    }\n",
       "</style>\n",
       "<table border=\"1\" class=\"dataframe\">\n",
       "  <thead>\n",
       "    <tr style=\"text-align: right;\">\n",
       "      <th></th>\n",
       "      <th>year</th>\n",
       "      <th>state</th>\n",
       "      <th>month</th>\n",
       "      <th>number</th>\n",
       "    </tr>\n",
       "  </thead>\n",
       "  <tbody>\n",
       "  </tbody>\n",
       "</table>\n",
       "</div>"
      ],
      "text/plain": [
       "Empty DataFrame\n",
       "Columns: [year, state, month, number]\n",
       "Index: []"
      ]
     },
     "execution_count": 14,
     "metadata": {},
     "output_type": "execute_result"
    }
   ],
   "source": [
    "# Verificando novamente, vemos que não existem mais valores duplicados:\n",
    "\n",
    "data[data.duplicated(keep=False)]"
   ]
  },
  {
   "attachments": {},
   "cell_type": "markdown",
   "metadata": {},
   "source": [
    "________"
   ]
  },
  {
   "attachments": {},
   "cell_type": "markdown",
   "metadata": {},
   "source": [
    "Outro ponto importante que devemos SEMPRE estar atentos são valores nulos e faltantes. Podemos determinar a sua quantidade da seguinte maneira:\n",
    "\n",
    "Usamos o método .isnull(), que determinará uma variável booleana ao registro (False se o registro estiver preenchido, True caso esteja faltando)\n",
    "\n",
    "Após isso, usamos outro método, o .sum() para realizar a contagem geral do total de registros faltantes. Caso exista algum registro faltante devemos observar\n",
    "\n",
    "um número diferente de 0, e tomar as devidas providências para que nossas análises não sejam contaminadas ou atrapalhadas por ele."
   ]
  },
  {
   "cell_type": "code",
   "execution_count": 15,
   "metadata": {},
   "outputs": [
    {
     "data": {
      "text/plain": [
       "year      0\n",
       "state     0\n",
       "month     0\n",
       "number    0\n",
       "dtype: int64"
      ]
     },
     "execution_count": 15,
     "metadata": {},
     "output_type": "execute_result"
    }
   ],
   "source": [
    "# No conjunto de dados trabalhado, observamos que todos os valores existem e não há registros nulos, logo não será necessário nenhuma alteração aqui:\n",
    "\n",
    "data.isnull().sum()"
   ]
  },
  {
   "attachments": {},
   "cell_type": "markdown",
   "metadata": {},
   "source": [
    "____________"
   ]
  },
  {
   "attachments": {},
   "cell_type": "markdown",
   "metadata": {},
   "source": [
    "## 🔠 Corrigindo erros ortográficos"
   ]
  },
  {
   "attachments": {},
   "cell_type": "markdown",
   "metadata": {},
   "source": [
    "Aqui, identifico quais os estados estão com nomes reduzidos ou incorretos para facilitar a identificação dos mesmos pelo PBI.\n",
    "\n",
    "Em seguida, crio um **Dicionário** contendo como chave os nomes incorretos e como valor os nomes certos."
   ]
  },
  {
   "cell_type": "code",
   "execution_count": 16,
   "metadata": {},
   "outputs": [
    {
     "data": {
      "text/plain": [
       "array(['Acre', 'Alagoas', 'Amapa', 'Amazonas', 'Bahia', 'Ceara',\n",
       "       'Distrito Federal', 'Espirito Santo', 'Goias', 'Maranhao',\n",
       "       'Mato Grosso', 'Minas Gerais', 'Pará', 'Paraiba', 'Pernambuco',\n",
       "       'Piau', 'Rio', 'Rondonia', 'Roraima', 'Santa Catarina',\n",
       "       'Sao Paulo', 'Sergipe', 'Tocantins'], dtype=object)"
      ]
     },
     "execution_count": 16,
     "metadata": {},
     "output_type": "execute_result"
    }
   ],
   "source": [
    "data.state.unique()"
   ]
  },
  {
   "cell_type": "code",
   "execution_count": 17,
   "metadata": {},
   "outputs": [],
   "source": [
    "corrigidos = {'Amapa':'Amapá', 'Ceara':'Ceará', 'Espirito Santo':'Espírito Santo',\n",
    "'Goias':'Goiás', 'Maranhao':'Maranhão', 'Paraiba':'Paraíba', 'Piau':'Piauí',\n",
    "'Rio':'Rio de Janeiro', 'Rondonia':'Rondônia', 'Sao Paulo':'São Paulo'}"
   ]
  },
  {
   "attachments": {},
   "cell_type": "markdown",
   "metadata": {},
   "source": [
    "Após realizar esse trabalho manual, utilizo o método **REPLACE** do Pandas para substituir as chaves pelos valores corretos."
   ]
  },
  {
   "cell_type": "code",
   "execution_count": 18,
   "metadata": {},
   "outputs": [],
   "source": [
    "data = data.replace(corrigidos.keys(), corrigidos.values())"
   ]
  },
  {
   "cell_type": "code",
   "execution_count": 19,
   "metadata": {},
   "outputs": [
    {
     "data": {
      "text/plain": [
       "array(['Acre', 'Alagoas', 'Amapá', 'Amazonas', 'Bahia', 'Ceará',\n",
       "       'Distrito Federal', 'Espírito Santo', 'Goiás', 'Maranhão',\n",
       "       'Mato Grosso', 'Minas Gerais', 'Pará', 'Paraíba', 'Pernambuco',\n",
       "       'Piauí', 'Rio de Janeiro', 'Rondônia', 'Roraima', 'Santa Catarina',\n",
       "       'São Paulo', 'Sergipe', 'Tocantins'], dtype=object)"
      ]
     },
     "execution_count": 19,
     "metadata": {},
     "output_type": "execute_result"
    }
   ],
   "source": [
    "# Com isso, chamamos novamente o UNIQUE para ver se os dados foram substituídos corretamente.\n",
    "\n",
    "data.state.unique()"
   ]
  },
  {
   "attachments": {},
   "cell_type": "markdown",
   "metadata": {},
   "source": [
    "É importante atentar-se à falta de alguns estados no conjunto de dados. São eles:\n",
    "\n",
    "> _Rio Grande do Norte; Rio Grande do Sul; Paraná e Mato Grosso do Sul._\n",
    "\n",
    "Como os dados não estão inclusos no Dataset e a fonte primária dos dados (http://dados.gov.br/dataset/sistema-nacional-de-informacoes-florestais-snif)\n",
    "\n",
    "não está disponível no momento de acesso (02/02/2023, 20:05), não há como determinar exatamente o motivo dos dados faltantes.\n",
    "\n",
    "Uma possibilidade a ser levantada seriam os estados \"Rio\" se referirem erroneamente à três estados,\n",
    "\n",
    "o Rio de Janeiro (Escolhido p/ ser o \"RIO\" nesses dados), o R.G. do Norte e o R.G. do Sul."
   ]
  },
  {
   "attachments": {},
   "cell_type": "markdown",
   "metadata": {},
   "source": [
    "______"
   ]
  },
  {
   "attachments": {},
   "cell_type": "markdown",
   "metadata": {},
   "source": [
    "# 📣 <b style=\"color:red\">ATENÇÃO - ANOMALIAS NOS DADOS</b>\n",
    "\n",
    "Todos os plots e informações obtidas através dos dados nesse notebook <b style=\"color:red\">NÃO</b> são representações fiéis da realidade."
   ]
  },
  {
   "attachments": {},
   "cell_type": "markdown",
   "metadata": {},
   "source": [
    "Os dados utilizados estão <b style=\"color:red\">CRITICAMENTE</b> comprometidos, de forma que não é possível determinar com exatidão as informações\n",
    "\n",
    "contidas em vários estados. Como informado na célula acima, e demonstrado na célula abaixo, **VÁRIOS** estados estão com informações\n",
    "\n",
    "que não pertencem aos mesmos. Por exemplo, o estado \"RIO\" conta com basicamente 3x o número de registros que ele devia conter,\n",
    "\n",
    "muito provavelmente devido à mistura dos estados citada acima, realizada pela própria pessoa que upou os dados. É possível observar também o \n",
    "\n",
    "Mato Grosso, que engloba o MT e o MT. do Sul, contando com 2x o número de registros esperados, e também o estado da Paraíba, que conta\n",
    "\n",
    "também com 2x o número de registros esperados."
   ]
  },
  {
   "cell_type": "code",
   "execution_count": 65,
   "metadata": {},
   "outputs": [
    {
     "data": {
      "text/html": [
       "<div>\n",
       "<style scoped>\n",
       "    .dataframe tbody tr th:only-of-type {\n",
       "        vertical-align: middle;\n",
       "    }\n",
       "\n",
       "    .dataframe tbody tr th {\n",
       "        vertical-align: top;\n",
       "    }\n",
       "\n",
       "    .dataframe thead th {\n",
       "        text-align: right;\n",
       "    }\n",
       "</style>\n",
       "<table border=\"1\" class=\"dataframe\">\n",
       "  <thead>\n",
       "    <tr style=\"text-align: right;\">\n",
       "      <th></th>\n",
       "      <th>year</th>\n",
       "      <th>month</th>\n",
       "      <th>number</th>\n",
       "    </tr>\n",
       "    <tr>\n",
       "      <th>state</th>\n",
       "      <th></th>\n",
       "      <th></th>\n",
       "      <th></th>\n",
       "    </tr>\n",
       "  </thead>\n",
       "  <tbody>\n",
       "    <tr>\n",
       "      <th>Acre</th>\n",
       "      <td>239</td>\n",
       "      <td>239</td>\n",
       "      <td>239</td>\n",
       "    </tr>\n",
       "    <tr>\n",
       "      <th>Alagoas</th>\n",
       "      <td>239</td>\n",
       "      <td>239</td>\n",
       "      <td>239</td>\n",
       "    </tr>\n",
       "    <tr>\n",
       "      <th>Amapá</th>\n",
       "      <td>239</td>\n",
       "      <td>239</td>\n",
       "      <td>239</td>\n",
       "    </tr>\n",
       "    <tr>\n",
       "      <th>Amazonas</th>\n",
       "      <td>239</td>\n",
       "      <td>239</td>\n",
       "      <td>239</td>\n",
       "    </tr>\n",
       "    <tr>\n",
       "      <th>Bahia</th>\n",
       "      <td>239</td>\n",
       "      <td>239</td>\n",
       "      <td>239</td>\n",
       "    </tr>\n",
       "    <tr>\n",
       "      <th>Ceará</th>\n",
       "      <td>239</td>\n",
       "      <td>239</td>\n",
       "      <td>239</td>\n",
       "    </tr>\n",
       "    <tr>\n",
       "      <th>Distrito Federal</th>\n",
       "      <td>239</td>\n",
       "      <td>239</td>\n",
       "      <td>239</td>\n",
       "    </tr>\n",
       "    <tr>\n",
       "      <th>Espírito Santo</th>\n",
       "      <td>239</td>\n",
       "      <td>239</td>\n",
       "      <td>239</td>\n",
       "    </tr>\n",
       "    <tr>\n",
       "      <th>Goiás</th>\n",
       "      <td>239</td>\n",
       "      <td>239</td>\n",
       "      <td>239</td>\n",
       "    </tr>\n",
       "    <tr>\n",
       "      <th>Maranhão</th>\n",
       "      <td>239</td>\n",
       "      <td>239</td>\n",
       "      <td>239</td>\n",
       "    </tr>\n",
       "    <tr>\n",
       "      <th>Mato Grosso</th>\n",
       "      <td>473</td>\n",
       "      <td>473</td>\n",
       "      <td>473</td>\n",
       "    </tr>\n",
       "    <tr>\n",
       "      <th>Minas Gerais</th>\n",
       "      <td>239</td>\n",
       "      <td>239</td>\n",
       "      <td>239</td>\n",
       "    </tr>\n",
       "    <tr>\n",
       "      <th>Paraíba</th>\n",
       "      <td>472</td>\n",
       "      <td>472</td>\n",
       "      <td>472</td>\n",
       "    </tr>\n",
       "    <tr>\n",
       "      <th>Pará</th>\n",
       "      <td>239</td>\n",
       "      <td>239</td>\n",
       "      <td>239</td>\n",
       "    </tr>\n",
       "    <tr>\n",
       "      <th>Pernambuco</th>\n",
       "      <td>239</td>\n",
       "      <td>239</td>\n",
       "      <td>239</td>\n",
       "    </tr>\n",
       "    <tr>\n",
       "      <th>Piauí</th>\n",
       "      <td>239</td>\n",
       "      <td>239</td>\n",
       "      <td>239</td>\n",
       "    </tr>\n",
       "    <tr>\n",
       "      <th>Rio de Janeiro</th>\n",
       "      <td>696</td>\n",
       "      <td>696</td>\n",
       "      <td>696</td>\n",
       "    </tr>\n",
       "    <tr>\n",
       "      <th>Rondônia</th>\n",
       "      <td>239</td>\n",
       "      <td>239</td>\n",
       "      <td>239</td>\n",
       "    </tr>\n",
       "    <tr>\n",
       "      <th>Roraima</th>\n",
       "      <td>239</td>\n",
       "      <td>239</td>\n",
       "      <td>239</td>\n",
       "    </tr>\n",
       "    <tr>\n",
       "      <th>Santa Catarina</th>\n",
       "      <td>239</td>\n",
       "      <td>239</td>\n",
       "      <td>239</td>\n",
       "    </tr>\n",
       "    <tr>\n",
       "      <th>Sergipe</th>\n",
       "      <td>239</td>\n",
       "      <td>239</td>\n",
       "      <td>239</td>\n",
       "    </tr>\n",
       "    <tr>\n",
       "      <th>São Paulo</th>\n",
       "      <td>239</td>\n",
       "      <td>239</td>\n",
       "      <td>239</td>\n",
       "    </tr>\n",
       "    <tr>\n",
       "      <th>Tocantins</th>\n",
       "      <td>239</td>\n",
       "      <td>239</td>\n",
       "      <td>239</td>\n",
       "    </tr>\n",
       "  </tbody>\n",
       "</table>\n",
       "</div>"
      ],
      "text/plain": [
       "                  year  month  number\n",
       "state                                \n",
       "Acre               239    239     239\n",
       "Alagoas            239    239     239\n",
       "Amapá              239    239     239\n",
       "Amazonas           239    239     239\n",
       "Bahia              239    239     239\n",
       "Ceará              239    239     239\n",
       "Distrito Federal   239    239     239\n",
       "Espírito Santo     239    239     239\n",
       "Goiás              239    239     239\n",
       "Maranhão           239    239     239\n",
       "Mato Grosso        473    473     473\n",
       "Minas Gerais       239    239     239\n",
       "Paraíba            472    472     472\n",
       "Pará               239    239     239\n",
       "Pernambuco         239    239     239\n",
       "Piauí              239    239     239\n",
       "Rio de Janeiro     696    696     696\n",
       "Rondônia           239    239     239\n",
       "Roraima            239    239     239\n",
       "Santa Catarina     239    239     239\n",
       "Sergipe            239    239     239\n",
       "São Paulo          239    239     239\n",
       "Tocantins          239    239     239"
      ]
     },
     "execution_count": 65,
     "metadata": {},
     "output_type": "execute_result"
    }
   ],
   "source": [
    "data.groupby('state').count()"
   ]
  },
  {
   "attachments": {},
   "cell_type": "markdown",
   "metadata": {},
   "source": [
    "> Tentei de diversas formas obter os dados da sua fonte PRIMÁRIA, mas aparentemente este segmento do portal de dados do governo foi descontinuado.\n",
    "\n",
    "Mesmo utilizando sites como o WAYBACK MACHINE (https://web.archive.org/web/20181126222108/https://dados.gov.br/dataset/sistema-nacional-de-informacoes-florestais-snif),\n",
    "\n",
    "que disponibiliza um \"mirror\" do site, não é possível baixar os arquivos em si, pois seu endereço de origem não está mais disponível."
   ]
  },
  {
   "attachments": {},
   "cell_type": "markdown",
   "metadata": {},
   "source": [
    "🧨 **IMPLICAÇÕES**: Devido a isso, veremos um número desproporcional de ocorrências nesses estados (MATO GROSSO, RIO DE JANEIRO E PARAÍBA), o que\n",
    "\n",
    "contaminará a análise, de forma que não podemos confiar totalmente nos dados. As ocorrências serão distribuídas de formas irreais que não\n",
    "\n",
    "refletem a realidade. Algumas medidas poderiam ser tomadas para tentar \"contornar\" o problema, como atribuir a estes estados uma **MÉDIA**\n",
    "\n",
    "de acordo com o cenário nacional, ou dividindo o número destes estados que contam com mais registros para o número \"ideal\" em cada estado,\n",
    "\n",
    "mas isso não resolveria nosso problema, já que **CADA ESTADO POSSUI UMA PARTICULARIDADE CLIMÁTICA E SOCIAL**, de forma que ainda assim\n",
    "\n",
    "estaríamos atribuindo números totalmente fora da realidade de cada estado."
   ]
  },
  {
   "attachments": {},
   "cell_type": "markdown",
   "metadata": {},
   "source": [
    "# 🔍 Visualizando os dados limpos"
   ]
  },
  {
   "attachments": {},
   "cell_type": "markdown",
   "metadata": {},
   "source": [
    "Seguindo com a visualização dos dados, podemos usar o método **DESCRIBE** para observar algumas das características das colunas numéricas do DF"
   ]
  },
  {
   "cell_type": "code",
   "execution_count": 20,
   "metadata": {},
   "outputs": [
    {
     "data": {
      "text/html": [
       "<div>\n",
       "<style scoped>\n",
       "    .dataframe tbody tr th:only-of-type {\n",
       "        vertical-align: middle;\n",
       "    }\n",
       "\n",
       "    .dataframe tbody tr th {\n",
       "        vertical-align: top;\n",
       "    }\n",
       "\n",
       "    .dataframe thead th {\n",
       "        text-align: right;\n",
       "    }\n",
       "</style>\n",
       "<table border=\"1\" class=\"dataframe\">\n",
       "  <thead>\n",
       "    <tr style=\"text-align: right;\">\n",
       "      <th></th>\n",
       "      <th>year</th>\n",
       "      <th>number</th>\n",
       "    </tr>\n",
       "  </thead>\n",
       "  <tbody>\n",
       "    <tr>\n",
       "      <th>count</th>\n",
       "      <td>6421.000000</td>\n",
       "      <td>6421.000000</td>\n",
       "    </tr>\n",
       "    <tr>\n",
       "      <th>mean</th>\n",
       "      <td>2007.490734</td>\n",
       "      <td>108.773867</td>\n",
       "    </tr>\n",
       "    <tr>\n",
       "      <th>std</th>\n",
       "      <td>5.732222</td>\n",
       "      <td>191.184606</td>\n",
       "    </tr>\n",
       "    <tr>\n",
       "      <th>min</th>\n",
       "      <td>1998.000000</td>\n",
       "      <td>0.000000</td>\n",
       "    </tr>\n",
       "    <tr>\n",
       "      <th>25%</th>\n",
       "      <td>2003.000000</td>\n",
       "      <td>3.000000</td>\n",
       "    </tr>\n",
       "    <tr>\n",
       "      <th>50%</th>\n",
       "      <td>2007.000000</td>\n",
       "      <td>24.000000</td>\n",
       "    </tr>\n",
       "    <tr>\n",
       "      <th>75%</th>\n",
       "      <td>2012.000000</td>\n",
       "      <td>114.000000</td>\n",
       "    </tr>\n",
       "    <tr>\n",
       "      <th>max</th>\n",
       "      <td>2017.000000</td>\n",
       "      <td>998.000000</td>\n",
       "    </tr>\n",
       "  </tbody>\n",
       "</table>\n",
       "</div>"
      ],
      "text/plain": [
       "              year       number\n",
       "count  6421.000000  6421.000000\n",
       "mean   2007.490734   108.773867\n",
       "std       5.732222   191.184606\n",
       "min    1998.000000     0.000000\n",
       "25%    2003.000000     3.000000\n",
       "50%    2007.000000    24.000000\n",
       "75%    2012.000000   114.000000\n",
       "max    2017.000000   998.000000"
      ]
     },
     "execution_count": 20,
     "metadata": {},
     "output_type": "execute_result"
    }
   ],
   "source": [
    "data.describe()"
   ]
  },
  {
   "attachments": {},
   "cell_type": "markdown",
   "metadata": {},
   "source": [
    "A partir do describe, podemos ter uma visão das características gerais do DF:\n",
    "\n",
    "1. Count - **Contagem de registros** (linhas) na coluna;\n",
    "\n",
    "2. Mean - **Média da coluna**;\n",
    "\n",
    "3. Std - **Desvio padrão da coluna** (podemos observar por exemplo que no **YEAR** o STD é baixo,\n",
    "\n",
    "    pois os dados se concentram num período de apenas 19 anos de diferença, enquanto no NUMBER\n",
    "    \n",
    "    temos um STD muito mais alto, pois os dados variam entre 0 e 998 na coluna;\n",
    "\n",
    "4. Min - **Valor mínimo** encontrado na coluna, menor registro;\n",
    "\n",
    "5. 25% - **Primeiro Quartil** ou **Q1** (25% dos valores se encontram abaixo daqui);\n",
    "\n",
    "6. 50% - **Segundo Quartil** ou **Q2** (50% dos valores estão abaixo daqui);\n",
    "\n",
    "7. 75% - **Terceiro Quartil** ou **Q3** (75% dos valores estão abaixo daqui);\n",
    "\n",
    "8. Max - **Valor máximo** encontrado na coluna, maior registro."
   ]
  },
  {
   "cell_type": "code",
   "execution_count": 21,
   "metadata": {},
   "outputs": [
    {
     "data": {
      "text/plain": [
       "year      2009.0\n",
       "number      46.0\n",
       "Name: 0.6, dtype: float64"
      ]
     },
     "execution_count": 21,
     "metadata": {},
     "output_type": "execute_result"
    }
   ],
   "source": [
    "# Além dos quartis padrão vistos acima, podemos obter os dados que se encontram antes de uma porcentagem X%,\n",
    "# utilizando o método QUANTILE, e dentro dele passando a porcentagem que desejamos como argumento: nesse caso, 60%\n",
    "\n",
    "data.quantile(0.60)"
   ]
  },
  {
   "attachments": {},
   "cell_type": "markdown",
   "metadata": {},
   "source": [
    "Também podemos gerar gráficos que nos ajudam na visualização da distribuição dos dados, como o **BOXPLOT**.\n",
    "\n",
    "Nesse caso, podemos ver os três quartis citados acima na **BARRA** do gráfico, sendo sua parte inferior o Q1,\n",
    "\n",
    "a linha verde o Q2 e sua parte superior o Q3. Além disso, percebemos também uma linha que segue até um valor\n",
    "\n",
    "que se aproxima de 275. Esses dados são considerados \"normais\" dentro da distribuição. Os pontos pretos são os **OUTLIERS**,\n",
    "\n",
    "dados que não estão dentro da distribuição esperada da maioria dos dados. Porém, isso não quer dizer que devemos sempre\n",
    "\n",
    "eliminar estes dados, ou que eles são um problema. Nesse caso, eles não afetarão nossas análises estatísticas nem os gráficos,\n",
    "\n",
    "e por se tratarem de uma representação da realidade, serão mantidos no nosso conjunto de dados."
   ]
  },
  {
   "cell_type": "code",
   "execution_count": 22,
   "metadata": {},
   "outputs": [
    {
     "data": {
      "image/png": "[encoded data removed]",
      "text/plain": [
       "<Figure size 500x800 with 1 Axes>"
      ]
     },
     "metadata": {},
     "output_type": "display_data"
    }
   ],
   "source": [
    "# Nestes dados os outliers (bolinhas pretas) vão até próximas do valor de 1000 se não limitarmos o tamanho do gráfico.\n",
    "# Porém, para melhor visualização dos quartis em si, optei por limitar o range entre 0 e 300, onde começam a aparecer\n",
    "# Os primeiros outliers. Os valores continuam existindo, apenas não estão destacados no gráfico.\n",
    "\n",
    "\n",
    "data.number.plot(kind='box', figsize=(5,8))\n",
    "\n",
    "plt.ylim(0,300)\n",
    "plt.show()"
   ]
  },
  {
   "attachments": {},
   "cell_type": "markdown",
   "metadata": {},
   "source": [
    "Outro método para verificarmos essa distribuição é o **DISTPLOT**, da biblioteca **SEABORN**:\n",
    "\n",
    "Notamos que ela não é uma Distribuição Padrão (Gaussiana/Bell Shaped), e sim uma distribuição\n",
    "\n",
    "<b style=\"color:#1c87d9\">**RIGHT SKEWED**</b>, ou seja, seus dados seguem o padrão de estarem altamente concentrados na parte DIREITA.\n",
    "\n",
    "Isso se confirma quando observamos os valores da Moda, que vem primeiro (0), seguido da mediana (24) e em seguida, a Média (108)"
   ]
  },
  {
   "cell_type": "code",
   "execution_count": 23,
   "metadata": {},
   "outputs": [
    {
     "name": "stdout",
     "output_type": "stream",
     "text": [
      "Moda: 0;\n",
      "Mediana: 24.0;\n",
      "Média: 108.77386699890982\n"
     ]
    },
    {
     "data": {
      "image/png": "[encoded data removed]",
      "text/plain": [
       "<Figure size 500x500 with 1 Axes>"
      ]
     },
     "metadata": {},
     "output_type": "display_data"
    }
   ],
   "source": [
    "sns.displot(data, x='number', binwidth=20)\n",
    "\n",
    "plt.plot()\n",
    "print(f'Moda: {data.number.mode()[0]};\\nMediana: {data.number.median()};\\nMédia: {data.number.mean()}')\n"
   ]
  },
  {
   "attachments": {},
   "cell_type": "markdown",
   "metadata": {},
   "source": [
    "____________"
   ]
  },
  {
   "attachments": {},
   "cell_type": "markdown",
   "metadata": {},
   "source": [
    "# 📊 Plots"
   ]
  },
  {
   "attachments": {},
   "cell_type": "markdown",
   "metadata": {},
   "source": [
    "Após realizar a limpeza e visualização da distribuição dos nossos dados, partimos para o plot\n",
    "\n",
    "de gráficos que nos forneçam mais informações sobre as ocorrências dos incêndios."
   ]
  },
  {
   "cell_type": "code",
   "execution_count": 24,
   "metadata": {},
   "outputs": [],
   "source": [
    "def colorindo_dados(entrada):\n",
    "  # Aqui é feito a classificação de cores para exibir no\n",
    "\n",
    "  color = 'crimson' if entrada > 40000 else 'GoldenRod' if entrada > 15000 else 'LemonChiffon'\n",
    "\n",
    "  return f'background: {color}'"
   ]
  },
  {
   "cell_type": "code",
   "execution_count": 43,
   "metadata": {},
   "outputs": [
    {
     "data": {
      "text/html": [
       "<style type=\"text/css\">\n",
       "#T_56c27_row0_col0, #T_56c27_row1_col0, #T_56c27_row2_col0, #T_56c27_row3_col0, #T_56c27_row4_col0 {\n",
       "  background: crimson;\n",
       "}\n",
       "#T_56c27_row5_col0, #T_56c27_row6_col0, #T_56c27_row7_col0, #T_56c27_row8_col0, #T_56c27_row9_col0, #T_56c27_row10_col0, #T_56c27_row11_col0, #T_56c27_row12_col0, #T_56c27_row13_col0, #T_56c27_row14_col0, #T_56c27_row15_col0, #T_56c27_row16_col0, #T_56c27_row17_col0, #T_56c27_row18_col0 {\n",
       "  background: GoldenRod;\n",
       "}\n",
       "#T_56c27_row19_col0, #T_56c27_row20_col0, #T_56c27_row21_col0, #T_56c27_row22_col0 {\n",
       "  background: LemonChiffon;\n",
       "}\n",
       "</style>\n",
       "<table id=\"T_56c27\">\n",
       "  <thead>\n",
       "    <tr>\n",
       "      <th class=\"blank level0\" >&nbsp;</th>\n",
       "      <th id=\"T_56c27_level0_col0\" class=\"col_heading level0 col0\" >number</th>\n",
       "    </tr>\n",
       "    <tr>\n",
       "      <th class=\"index_name level0\" >state</th>\n",
       "      <th class=\"blank col0\" >&nbsp;</th>\n",
       "    </tr>\n",
       "  </thead>\n",
       "  <tbody>\n",
       "    <tr>\n",
       "      <th id=\"T_56c27_level0_row0\" class=\"row_heading level0 row0\" >Mato Grosso</th>\n",
       "      <td id=\"T_56c27_row0_col0\" class=\"data row0 col0\" >96178</td>\n",
       "    </tr>\n",
       "    <tr>\n",
       "      <th id=\"T_56c27_level0_row1\" class=\"row_heading level0 row1\" >Paraíba</th>\n",
       "      <td id=\"T_56c27_row1_col0\" class=\"data row1 col0\" >52423</td>\n",
       "    </tr>\n",
       "    <tr>\n",
       "      <th id=\"T_56c27_level0_row2\" class=\"row_heading level0 row2\" >São Paulo</th>\n",
       "      <td id=\"T_56c27_row2_col0\" class=\"data row2 col0\" >51118</td>\n",
       "    </tr>\n",
       "    <tr>\n",
       "      <th id=\"T_56c27_level0_row3\" class=\"row_heading level0 row3\" >Rio de Janeiro</th>\n",
       "      <td id=\"T_56c27_row3_col0\" class=\"data row3 col0\" >45093</td>\n",
       "    </tr>\n",
       "    <tr>\n",
       "      <th id=\"T_56c27_level0_row4\" class=\"row_heading level0 row4\" >Bahia</th>\n",
       "      <td id=\"T_56c27_row4_col0\" class=\"data row4 col0\" >44718</td>\n",
       "    </tr>\n",
       "    <tr>\n",
       "      <th id=\"T_56c27_level0_row5\" class=\"row_heading level0 row5\" >Piauí</th>\n",
       "      <td id=\"T_56c27_row5_col0\" class=\"data row5 col0\" >37777</td>\n",
       "    </tr>\n",
       "    <tr>\n",
       "      <th id=\"T_56c27_level0_row6\" class=\"row_heading level0 row6\" >Goiás</th>\n",
       "      <td id=\"T_56c27_row6_col0\" class=\"data row6 col0\" >37677</td>\n",
       "    </tr>\n",
       "    <tr>\n",
       "      <th id=\"T_56c27_level0_row7\" class=\"row_heading level0 row7\" >Minas Gerais</th>\n",
       "      <td id=\"T_56c27_row7_col0\" class=\"data row7 col0\" >37453</td>\n",
       "    </tr>\n",
       "    <tr>\n",
       "      <th id=\"T_56c27_level0_row8\" class=\"row_heading level0 row8\" >Tocantins</th>\n",
       "      <td id=\"T_56c27_row8_col0\" class=\"data row8 col0\" >33675</td>\n",
       "    </tr>\n",
       "    <tr>\n",
       "      <th id=\"T_56c27_level0_row9\" class=\"row_heading level0 row9\" >Amazonas</th>\n",
       "      <td id=\"T_56c27_row9_col0\" class=\"data row9 col0\" >30636</td>\n",
       "    </tr>\n",
       "    <tr>\n",
       "      <th id=\"T_56c27_level0_row10\" class=\"row_heading level0 row10\" >Ceará</th>\n",
       "      <td id=\"T_56c27_row10_col0\" class=\"data row10 col0\" >30415</td>\n",
       "    </tr>\n",
       "    <tr>\n",
       "      <th id=\"T_56c27_level0_row11\" class=\"row_heading level0 row11\" >Maranhão</th>\n",
       "      <td id=\"T_56c27_row11_col0\" class=\"data row11 col0\" >25082</td>\n",
       "    </tr>\n",
       "    <tr>\n",
       "      <th id=\"T_56c27_level0_row12\" class=\"row_heading level0 row12\" >Pernambuco</th>\n",
       "      <td id=\"T_56c27_row12_col0\" class=\"data row12 col0\" >24498</td>\n",
       "    </tr>\n",
       "    <tr>\n",
       "      <th id=\"T_56c27_level0_row13\" class=\"row_heading level0 row13\" >Pará</th>\n",
       "      <td id=\"T_56c27_row13_col0\" class=\"data row13 col0\" >24459</td>\n",
       "    </tr>\n",
       "    <tr>\n",
       "      <th id=\"T_56c27_level0_row14\" class=\"row_heading level0 row14\" >Roraima</th>\n",
       "      <td id=\"T_56c27_row14_col0\" class=\"data row14 col0\" >24384</td>\n",
       "    </tr>\n",
       "    <tr>\n",
       "      <th id=\"T_56c27_level0_row15\" class=\"row_heading level0 row15\" >Santa Catarina</th>\n",
       "      <td id=\"T_56c27_row15_col0\" class=\"data row15 col0\" >24359</td>\n",
       "    </tr>\n",
       "    <tr>\n",
       "      <th id=\"T_56c27_level0_row16\" class=\"row_heading level0 row16\" >Amapá</th>\n",
       "      <td id=\"T_56c27_row16_col0\" class=\"data row16 col0\" >21831</td>\n",
       "    </tr>\n",
       "    <tr>\n",
       "      <th id=\"T_56c27_level0_row17\" class=\"row_heading level0 row17\" >Rondônia</th>\n",
       "      <td id=\"T_56c27_row17_col0\" class=\"data row17 col0\" >20259</td>\n",
       "    </tr>\n",
       "    <tr>\n",
       "      <th id=\"T_56c27_level0_row18\" class=\"row_heading level0 row18\" >Acre</th>\n",
       "      <td id=\"T_56c27_row18_col0\" class=\"data row18 col0\" >18452</td>\n",
       "    </tr>\n",
       "    <tr>\n",
       "      <th id=\"T_56c27_level0_row19\" class=\"row_heading level0 row19\" >Espírito Santo</th>\n",
       "      <td id=\"T_56c27_row19_col0\" class=\"data row19 col0\" >6546</td>\n",
       "    </tr>\n",
       "    <tr>\n",
       "      <th id=\"T_56c27_level0_row20\" class=\"row_heading level0 row20\" >Alagoas</th>\n",
       "      <td id=\"T_56c27_row20_col0\" class=\"data row20 col0\" >4606</td>\n",
       "    </tr>\n",
       "    <tr>\n",
       "      <th id=\"T_56c27_level0_row21\" class=\"row_heading level0 row21\" >Distrito Federal</th>\n",
       "      <td id=\"T_56c27_row21_col0\" class=\"data row21 col0\" >3561</td>\n",
       "    </tr>\n",
       "    <tr>\n",
       "      <th id=\"T_56c27_level0_row22\" class=\"row_heading level0 row22\" >Sergipe</th>\n",
       "      <td id=\"T_56c27_row22_col0\" class=\"data row22 col0\" >3237</td>\n",
       "    </tr>\n",
       "  </tbody>\n",
       "</table>\n"
      ],
      "text/plain": [
       "<pandas.io.formats.style.Styler at 0x27f4c88f580>"
      ]
     },
     "execution_count": 43,
     "metadata": {},
     "output_type": "execute_result"
    }
   ],
   "source": [
    "total_mais_recorrentes = data[['state', 'number']].groupby(by='state').sum().sort_values(by='number', ascending=False)\n",
    "total_mais_recorrentes.style.applymap(colorindo_dados)\n"
   ]
  },
  {
   "attachments": {},
   "cell_type": "markdown",
   "metadata": {},
   "source": [
    "🛑 Caso não tenha lido a divisão de ATENÇÃO no notebook, favor retornar e ler."
   ]
  },
  {
   "attachments": {},
   "cell_type": "markdown",
   "metadata": {},
   "source": [
    "No gráfico abaixo, podemos observar que o número TOTAL de incêndios é muito maior no agrupamento de estados do\n",
    "\n",
    "Mato Grosso (MS e MT), primeiro colocado, do que no segundo colocado (PB e PR). Isso pode ser explicado por alguns fatores:\n",
    "\n",
    "> Os estados do Mato Grosso estão entre as regiões mais quentes do Brasil, com uma temperatura média diária de 33 graus;\n",
    ">\n",
    "> Os estados são responsáveis por grandes produção agrícolas no país. É uma prática comum a utilização do fogo para \"limpar\" o terreno p/ plantio ou pós colheita;\n",
    ">\n",
    "> Nos meses mais quentes, a umidade relativa do ar no estado pode baixar consideravelmente, já que suas maiores reservas aquáticas (Pantanal) se concentram no sul do MT e norte do MS.\n",
    "\n",
    "A união destes fatores faz com que esse agrupammento seja o campeão disparado no número total de queimadas, apesar de ter como \"concorrentes\" outros dois agrupamentos de estado,\n",
    "\n",
    "representados pela Paraíba e Rio de Janeiro."
   ]
  },
  {
   "cell_type": "code",
   "execution_count": 66,
   "metadata": {},
   "outputs": [
    {
     "data": {
      "image/png": "[encoded data removed]",
      "text/plain": [
       "<Figure size 640x480 with 1 Axes>"
      ]
     },
     "metadata": {},
     "output_type": "display_data"
    }
   ],
   "source": [
    "sns.barplot(data=total_mais_recorrentes, x=total_mais_recorrentes.index, y='number', palette='YlOrRd_r')\n",
    "\n",
    "plt.xticks(rotation=90)\n",
    "plt.title('Número de incêndios florestais por estado, desde 1997')\n",
    "plt.xlabel('')\n",
    "plt.ylabel('Ocorrências')\n",
    "plt.show()"
   ]
  },
  {
   "attachments": {},
   "cell_type": "markdown",
   "metadata": {},
   "source": [
    "Uma medida que pode nos aproximar um pouco mais da verdade, apesar de não ser ideal, é a média, já que ela irá dividir\n",
    "\n",
    "o **VALOR DOS REGISTROS** pelo **NÚMERO DE LINHAS** em cada estado/agrupamento. Com isso, teremos um gráfico onde os\n",
    "\n",
    "agrupamentos do MATO GROSSO, PARAÍBA E RIO DE JANEIRO ficam um pouco menos distoantes da realidade:"
   ]
  },
  {
   "cell_type": "code",
   "execution_count": 88,
   "metadata": {},
   "outputs": [],
   "source": [
    "medias_mais_recorrentes = data.groupby('state').number.mean().sort_values(ascending=False).reset_index()"
   ]
  },
  {
   "cell_type": "code",
   "execution_count": 92,
   "metadata": {},
   "outputs": [
    {
     "data": {
      "image/png": "[encoded data removed]",
      "text/plain": [
       "<Figure size 640x480 with 1 Axes>"
      ]
     },
     "metadata": {},
     "output_type": "display_data"
    }
   ],
   "source": [
    "sns.barplot(data=medias_mais_recorrentes, x=medias_mais_recorrentes.state, y=medias_mais_recorrentes.number, palette='YlOrRd_r')\n",
    "\n",
    "plt.xticks(rotation=90)\n",
    "plt.title('Média mensal de incêndios florestais por estado, desde 1997')\n",
    "plt.xlabel('')\n",
    "plt.ylabel('Ocorrências')\n",
    "plt.show()"
   ]
  },
  {
   "cell_type": "code",
   "execution_count": 27,
   "metadata": {},
   "outputs": [
    {
     "data": {
      "text/html": [
       "<div>\n",
       "<style scoped>\n",
       "    .dataframe tbody tr th:only-of-type {\n",
       "        vertical-align: middle;\n",
       "    }\n",
       "\n",
       "    .dataframe tbody tr th {\n",
       "        vertical-align: top;\n",
       "    }\n",
       "\n",
       "    .dataframe thead th {\n",
       "        text-align: right;\n",
       "    }\n",
       "</style>\n",
       "<table border=\"1\" class=\"dataframe\">\n",
       "  <thead>\n",
       "    <tr style=\"text-align: right;\">\n",
       "      <th></th>\n",
       "      <th>number</th>\n",
       "    </tr>\n",
       "    <tr>\n",
       "      <th>year</th>\n",
       "      <th></th>\n",
       "    </tr>\n",
       "  </thead>\n",
       "  <tbody>\n",
       "    <tr>\n",
       "      <th>1998</th>\n",
       "      <td>19999</td>\n",
       "    </tr>\n",
       "    <tr>\n",
       "      <th>1999</th>\n",
       "      <td>26869</td>\n",
       "    </tr>\n",
       "    <tr>\n",
       "      <th>2000</th>\n",
       "      <td>27341</td>\n",
       "    </tr>\n",
       "    <tr>\n",
       "      <th>2001</th>\n",
       "      <td>29039</td>\n",
       "    </tr>\n",
       "    <tr>\n",
       "      <th>2002</th>\n",
       "      <td>37369</td>\n",
       "    </tr>\n",
       "    <tr>\n",
       "      <th>2003</th>\n",
       "      <td>42737</td>\n",
       "    </tr>\n",
       "    <tr>\n",
       "      <th>2004</th>\n",
       "      <td>38424</td>\n",
       "    </tr>\n",
       "    <tr>\n",
       "      <th>2005</th>\n",
       "      <td>34984</td>\n",
       "    </tr>\n",
       "    <tr>\n",
       "      <th>2006</th>\n",
       "      <td>33811</td>\n",
       "    </tr>\n",
       "    <tr>\n",
       "      <th>2007</th>\n",
       "      <td>33008</td>\n",
       "    </tr>\n",
       "    <tr>\n",
       "      <th>2008</th>\n",
       "      <td>29363</td>\n",
       "    </tr>\n",
       "    <tr>\n",
       "      <th>2009</th>\n",
       "      <td>39102</td>\n",
       "    </tr>\n",
       "    <tr>\n",
       "      <th>2010</th>\n",
       "      <td>37015</td>\n",
       "    </tr>\n",
       "    <tr>\n",
       "      <th>2011</th>\n",
       "      <td>34619</td>\n",
       "    </tr>\n",
       "    <tr>\n",
       "      <th>2012</th>\n",
       "      <td>40065</td>\n",
       "    </tr>\n",
       "    <tr>\n",
       "      <th>2013</th>\n",
       "      <td>35121</td>\n",
       "    </tr>\n",
       "    <tr>\n",
       "      <th>2014</th>\n",
       "      <td>39601</td>\n",
       "    </tr>\n",
       "    <tr>\n",
       "      <th>2015</th>\n",
       "      <td>41184</td>\n",
       "    </tr>\n",
       "    <tr>\n",
       "      <th>2016</th>\n",
       "      <td>42189</td>\n",
       "    </tr>\n",
       "    <tr>\n",
       "      <th>2017</th>\n",
       "      <td>36597</td>\n",
       "    </tr>\n",
       "  </tbody>\n",
       "</table>\n",
       "</div>"
      ],
      "text/plain": [
       "      number\n",
       "year        \n",
       "1998   19999\n",
       "1999   26869\n",
       "2000   27341\n",
       "2001   29039\n",
       "2002   37369\n",
       "2003   42737\n",
       "2004   38424\n",
       "2005   34984\n",
       "2006   33811\n",
       "2007   33008\n",
       "2008   29363\n",
       "2009   39102\n",
       "2010   37015\n",
       "2011   34619\n",
       "2012   40065\n",
       "2013   35121\n",
       "2014   39601\n",
       "2015   41184\n",
       "2016   42189\n",
       "2017   36597"
      ]
     },
     "execution_count": 27,
     "metadata": {},
     "output_type": "execute_result"
    }
   ],
   "source": [
    "data.groupby('year').sum()"
   ]
  },
  {
   "cell_type": "code",
   "execution_count": 137,
   "metadata": {},
   "outputs": [
    {
     "data": {
      "text/plain": [
       "<AxesSubplot:>"
      ]
     },
     "execution_count": 137,
     "metadata": {},
     "output_type": "execute_result"
    },
    {
     "data": {
      "image/png": "[encoded data removed]",
      "text/plain": [
       "<Figure size 640x480 with 1 Axes>"
      ]
     },
     "metadata": {},
     "output_type": "display_data"
    }
   ],
   "source": [
    "data.groupby('state').get_group('Mato Grosso').number.plot()"
   ]
  },
  {
   "attachments": {},
   "cell_type": "markdown",
   "metadata": {},
   "source": [
    "# 📤 Exportando dados limpos p/ usar no Power BI"
   ]
  },
  {
   "attachments": {},
   "cell_type": "markdown",
   "metadata": {},
   "source": [
    "Aqui, a partir do método **to_csv** do Pandas, exportamos nossos dados limpos para um novo arquivo, para ser usado no PBI."
   ]
  },
  {
   "cell_type": "code",
   "execution_count": 26,
   "metadata": {},
   "outputs": [],
   "source": [
    "data.to_csv('Data/dados_limpos.csv', index=False)"
   ]
  },
  {
   "attachments": {},
   "cell_type": "markdown",
   "metadata": {},
   "source": [
    "_____"
   ]
  }
 ],
 "metadata": {
  "kernelspec": {
   "display_name": "Python 3",
   "language": "python",
   "name": "python3"
  },
  "language_info": {
   "codemirror_mode": {
    "name": "ipython",
    "version": 3
   },
   "file_extension": ".py",
   "mimetype": "text/x-python",
   "name": "python",
   "nbconvert_exporter": "python",
   "pygments_lexer": "ipython3",
   "version": "3.9.6"
  },
  "orig_nbformat": 4,
  "vscode": {
   "interpreter": {
    "hash": "11938c6bc6919ae2720b4d5011047913343b08a43b18698fd82dedb0d4417594"
   }
  }
 },
 "nbformat": 4,
 "nbformat_minor": 2
}
